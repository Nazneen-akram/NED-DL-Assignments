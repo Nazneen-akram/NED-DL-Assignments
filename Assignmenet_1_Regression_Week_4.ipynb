{
  "cells": [
    {
      "cell_type": "markdown",
      "metadata": {
        "id": "view-in-github",
        "colab_type": "text"
      },
      "source": [
        "<a href=\"https://colab.research.google.com/github/Nazneen-akram/NED-DL-Assignments/blob/main/Assignmenet_1_Regression_Week_4.ipynb\" target=\"_parent\"><img src=\"https://colab.research.google.com/assets/colab-badge.svg\" alt=\"Open In Colab\"/></a>"
      ]
    },
    {
      "cell_type": "markdown",
      "metadata": {
        "id": "3bee89e5-f8fe-4415-86dd-9c8e5ec3c2ba"
      },
      "source": [
        "# REGRESSION using DL Library Keras/Tensorflow"
      ],
      "id": "3bee89e5-f8fe-4415-86dd-9c8e5ec3c2ba"
    },
    {
      "cell_type": "markdown",
      "metadata": {
        "id": "18272b14-8e74-46d7-9f95-d4be8a332f32"
      },
      "source": [
        "### Week 4 Assignment.\n"
      ],
      "id": "18272b14-8e74-46d7-9f95-d4be8a332f32"
    },
    {
      "cell_type": "markdown",
      "metadata": {
        "id": "1af1c76d"
      },
      "source": [
        "This is Concrete Strength Prediction dataset. You would be required to follow the instructions below to make a regression model to measure the concrete strength.\n",
        "For test purpose, use 10% of data as test."
      ],
      "id": "1af1c76d"
    },
    {
      "cell_type": "markdown",
      "metadata": {
        "id": "fcc5c3fd-9d62-446c-be3b-7eac8cb8f45f"
      },
      "source": [
        "### Dated: 16.10.2023"
      ],
      "id": "fcc5c3fd-9d62-446c-be3b-7eac8cb8f45f"
    },
    {
      "cell_type": "markdown",
      "metadata": {
        "id": "9f84be91-27d4-4beb-bf29-4b25b6893214"
      },
      "source": [
        "#### Setting up Libraries"
      ],
      "id": "9f84be91-27d4-4beb-bf29-4b25b6893214"
    },
    {
      "cell_type": "code",
      "execution_count": 58,
      "metadata": {
        "id": "41b5d09b"
      },
      "outputs": [],
      "source": [
        "#imports here\n",
        "import pandas as pd\n",
        "\n",
        "from keras.models import Sequential\n",
        "from keras.layers import Dense\n",
        "\n",
        "from sklearn.model_selection import train_test_split\n",
        "from sklearn.preprocessing import StandardScaler\n",
        "from sklearn.metrics import mean_squared_error\n",
        "\n",
        "import matplotlib.pyplot as plt"
      ],
      "id": "41b5d09b"
    },
    {
      "cell_type": "markdown",
      "metadata": {
        "id": "64354a64-6b60-4e54-b61a-37fa8d9938f0"
      },
      "source": [
        "#### Loading Data"
      ],
      "id": "64354a64-6b60-4e54-b61a-37fa8d9938f0"
    },
    {
      "cell_type": "code",
      "execution_count": 3,
      "metadata": {
        "id": "a36c6889"
      },
      "outputs": [],
      "source": [
        "concrete_data = pd.read_csv(\"https://cocl.us/concrete_data\")"
      ],
      "id": "a36c6889"
    },
    {
      "cell_type": "markdown",
      "metadata": {
        "id": "ca7da4c4-8910-47cd-a709-3f795f08b606"
      },
      "source": [
        "#### Getting basic info and feel of the data"
      ],
      "id": "ca7da4c4-8910-47cd-a709-3f795f08b606"
    },
    {
      "cell_type": "code",
      "execution_count": 4,
      "metadata": {
        "colab": {
          "base_uri": "https://localhost:8080/",
          "height": 206
        },
        "id": "e7d044b2",
        "outputId": "a1b79f07-9b8d-4cf2-c9da-41426c885bea"
      },
      "outputs": [
        {
          "output_type": "execute_result",
          "data": {
            "text/plain": [
              "   Cement  Blast Furnace Slag  Fly Ash  Water  Superplasticizer  \\\n",
              "0   540.0                 0.0      0.0  162.0               2.5   \n",
              "1   540.0                 0.0      0.0  162.0               2.5   \n",
              "2   332.5               142.5      0.0  228.0               0.0   \n",
              "3   332.5               142.5      0.0  228.0               0.0   \n",
              "4   198.6               132.4      0.0  192.0               0.0   \n",
              "\n",
              "   Coarse Aggregate  Fine Aggregate  Age  Strength  \n",
              "0            1040.0           676.0   28     79.99  \n",
              "1            1055.0           676.0   28     61.89  \n",
              "2             932.0           594.0  270     40.27  \n",
              "3             932.0           594.0  365     41.05  \n",
              "4             978.4           825.5  360     44.30  "
            ],
            "text/html": [
              "\n",
              "  <div id=\"df-c78a2557-0933-41c4-afc8-e0a6cc60dd18\" class=\"colab-df-container\">\n",
              "    <div>\n",
              "<style scoped>\n",
              "    .dataframe tbody tr th:only-of-type {\n",
              "        vertical-align: middle;\n",
              "    }\n",
              "\n",
              "    .dataframe tbody tr th {\n",
              "        vertical-align: top;\n",
              "    }\n",
              "\n",
              "    .dataframe thead th {\n",
              "        text-align: right;\n",
              "    }\n",
              "</style>\n",
              "<table border=\"1\" class=\"dataframe\">\n",
              "  <thead>\n",
              "    <tr style=\"text-align: right;\">\n",
              "      <th></th>\n",
              "      <th>Cement</th>\n",
              "      <th>Blast Furnace Slag</th>\n",
              "      <th>Fly Ash</th>\n",
              "      <th>Water</th>\n",
              "      <th>Superplasticizer</th>\n",
              "      <th>Coarse Aggregate</th>\n",
              "      <th>Fine Aggregate</th>\n",
              "      <th>Age</th>\n",
              "      <th>Strength</th>\n",
              "    </tr>\n",
              "  </thead>\n",
              "  <tbody>\n",
              "    <tr>\n",
              "      <th>0</th>\n",
              "      <td>540.0</td>\n",
              "      <td>0.0</td>\n",
              "      <td>0.0</td>\n",
              "      <td>162.0</td>\n",
              "      <td>2.5</td>\n",
              "      <td>1040.0</td>\n",
              "      <td>676.0</td>\n",
              "      <td>28</td>\n",
              "      <td>79.99</td>\n",
              "    </tr>\n",
              "    <tr>\n",
              "      <th>1</th>\n",
              "      <td>540.0</td>\n",
              "      <td>0.0</td>\n",
              "      <td>0.0</td>\n",
              "      <td>162.0</td>\n",
              "      <td>2.5</td>\n",
              "      <td>1055.0</td>\n",
              "      <td>676.0</td>\n",
              "      <td>28</td>\n",
              "      <td>61.89</td>\n",
              "    </tr>\n",
              "    <tr>\n",
              "      <th>2</th>\n",
              "      <td>332.5</td>\n",
              "      <td>142.5</td>\n",
              "      <td>0.0</td>\n",
              "      <td>228.0</td>\n",
              "      <td>0.0</td>\n",
              "      <td>932.0</td>\n",
              "      <td>594.0</td>\n",
              "      <td>270</td>\n",
              "      <td>40.27</td>\n",
              "    </tr>\n",
              "    <tr>\n",
              "      <th>3</th>\n",
              "      <td>332.5</td>\n",
              "      <td>142.5</td>\n",
              "      <td>0.0</td>\n",
              "      <td>228.0</td>\n",
              "      <td>0.0</td>\n",
              "      <td>932.0</td>\n",
              "      <td>594.0</td>\n",
              "      <td>365</td>\n",
              "      <td>41.05</td>\n",
              "    </tr>\n",
              "    <tr>\n",
              "      <th>4</th>\n",
              "      <td>198.6</td>\n",
              "      <td>132.4</td>\n",
              "      <td>0.0</td>\n",
              "      <td>192.0</td>\n",
              "      <td>0.0</td>\n",
              "      <td>978.4</td>\n",
              "      <td>825.5</td>\n",
              "      <td>360</td>\n",
              "      <td>44.30</td>\n",
              "    </tr>\n",
              "  </tbody>\n",
              "</table>\n",
              "</div>\n",
              "    <div class=\"colab-df-buttons\">\n",
              "\n",
              "  <div class=\"colab-df-container\">\n",
              "    <button class=\"colab-df-convert\" onclick=\"convertToInteractive('df-c78a2557-0933-41c4-afc8-e0a6cc60dd18')\"\n",
              "            title=\"Convert this dataframe to an interactive table.\"\n",
              "            style=\"display:none;\">\n",
              "\n",
              "  <svg xmlns=\"http://www.w3.org/2000/svg\" height=\"24px\" viewBox=\"0 -960 960 960\">\n",
              "    <path d=\"M120-120v-720h720v720H120Zm60-500h600v-160H180v160Zm220 220h160v-160H400v160Zm0 220h160v-160H400v160ZM180-400h160v-160H180v160Zm440 0h160v-160H620v160ZM180-180h160v-160H180v160Zm440 0h160v-160H620v160Z\"/>\n",
              "  </svg>\n",
              "    </button>\n",
              "\n",
              "  <style>\n",
              "    .colab-df-container {\n",
              "      display:flex;\n",
              "      gap: 12px;\n",
              "    }\n",
              "\n",
              "    .colab-df-convert {\n",
              "      background-color: #E8F0FE;\n",
              "      border: none;\n",
              "      border-radius: 50%;\n",
              "      cursor: pointer;\n",
              "      display: none;\n",
              "      fill: #1967D2;\n",
              "      height: 32px;\n",
              "      padding: 0 0 0 0;\n",
              "      width: 32px;\n",
              "    }\n",
              "\n",
              "    .colab-df-convert:hover {\n",
              "      background-color: #E2EBFA;\n",
              "      box-shadow: 0px 1px 2px rgba(60, 64, 67, 0.3), 0px 1px 3px 1px rgba(60, 64, 67, 0.15);\n",
              "      fill: #174EA6;\n",
              "    }\n",
              "\n",
              "    .colab-df-buttons div {\n",
              "      margin-bottom: 4px;\n",
              "    }\n",
              "\n",
              "    [theme=dark] .colab-df-convert {\n",
              "      background-color: #3B4455;\n",
              "      fill: #D2E3FC;\n",
              "    }\n",
              "\n",
              "    [theme=dark] .colab-df-convert:hover {\n",
              "      background-color: #434B5C;\n",
              "      box-shadow: 0px 1px 3px 1px rgba(0, 0, 0, 0.15);\n",
              "      filter: drop-shadow(0px 1px 2px rgba(0, 0, 0, 0.3));\n",
              "      fill: #FFFFFF;\n",
              "    }\n",
              "  </style>\n",
              "\n",
              "    <script>\n",
              "      const buttonEl =\n",
              "        document.querySelector('#df-c78a2557-0933-41c4-afc8-e0a6cc60dd18 button.colab-df-convert');\n",
              "      buttonEl.style.display =\n",
              "        google.colab.kernel.accessAllowed ? 'block' : 'none';\n",
              "\n",
              "      async function convertToInteractive(key) {\n",
              "        const element = document.querySelector('#df-c78a2557-0933-41c4-afc8-e0a6cc60dd18');\n",
              "        const dataTable =\n",
              "          await google.colab.kernel.invokeFunction('convertToInteractive',\n",
              "                                                    [key], {});\n",
              "        if (!dataTable) return;\n",
              "\n",
              "        const docLinkHtml = 'Like what you see? Visit the ' +\n",
              "          '<a target=\"_blank\" href=https://colab.research.google.com/notebooks/data_table.ipynb>data table notebook</a>'\n",
              "          + ' to learn more about interactive tables.';\n",
              "        element.innerHTML = '';\n",
              "        dataTable['output_type'] = 'display_data';\n",
              "        await google.colab.output.renderOutput(dataTable, element);\n",
              "        const docLink = document.createElement('div');\n",
              "        docLink.innerHTML = docLinkHtml;\n",
              "        element.appendChild(docLink);\n",
              "      }\n",
              "    </script>\n",
              "  </div>\n",
              "\n",
              "\n",
              "<div id=\"df-22331e98-92f7-48a7-80ae-3c674573e0c3\">\n",
              "  <button class=\"colab-df-quickchart\" onclick=\"quickchart('df-22331e98-92f7-48a7-80ae-3c674573e0c3')\"\n",
              "            title=\"Suggest charts.\"\n",
              "            style=\"display:none;\">\n",
              "\n",
              "<svg xmlns=\"http://www.w3.org/2000/svg\" height=\"24px\"viewBox=\"0 0 24 24\"\n",
              "     width=\"24px\">\n",
              "    <g>\n",
              "        <path d=\"M19 3H5c-1.1 0-2 .9-2 2v14c0 1.1.9 2 2 2h14c1.1 0 2-.9 2-2V5c0-1.1-.9-2-2-2zM9 17H7v-7h2v7zm4 0h-2V7h2v10zm4 0h-2v-4h2v4z\"/>\n",
              "    </g>\n",
              "</svg>\n",
              "  </button>\n",
              "\n",
              "<style>\n",
              "  .colab-df-quickchart {\n",
              "      --bg-color: #E8F0FE;\n",
              "      --fill-color: #1967D2;\n",
              "      --hover-bg-color: #E2EBFA;\n",
              "      --hover-fill-color: #174EA6;\n",
              "      --disabled-fill-color: #AAA;\n",
              "      --disabled-bg-color: #DDD;\n",
              "  }\n",
              "\n",
              "  [theme=dark] .colab-df-quickchart {\n",
              "      --bg-color: #3B4455;\n",
              "      --fill-color: #D2E3FC;\n",
              "      --hover-bg-color: #434B5C;\n",
              "      --hover-fill-color: #FFFFFF;\n",
              "      --disabled-bg-color: #3B4455;\n",
              "      --disabled-fill-color: #666;\n",
              "  }\n",
              "\n",
              "  .colab-df-quickchart {\n",
              "    background-color: var(--bg-color);\n",
              "    border: none;\n",
              "    border-radius: 50%;\n",
              "    cursor: pointer;\n",
              "    display: none;\n",
              "    fill: var(--fill-color);\n",
              "    height: 32px;\n",
              "    padding: 0;\n",
              "    width: 32px;\n",
              "  }\n",
              "\n",
              "  .colab-df-quickchart:hover {\n",
              "    background-color: var(--hover-bg-color);\n",
              "    box-shadow: 0 1px 2px rgba(60, 64, 67, 0.3), 0 1px 3px 1px rgba(60, 64, 67, 0.15);\n",
              "    fill: var(--button-hover-fill-color);\n",
              "  }\n",
              "\n",
              "  .colab-df-quickchart-complete:disabled,\n",
              "  .colab-df-quickchart-complete:disabled:hover {\n",
              "    background-color: var(--disabled-bg-color);\n",
              "    fill: var(--disabled-fill-color);\n",
              "    box-shadow: none;\n",
              "  }\n",
              "\n",
              "  .colab-df-spinner {\n",
              "    border: 2px solid var(--fill-color);\n",
              "    border-color: transparent;\n",
              "    border-bottom-color: var(--fill-color);\n",
              "    animation:\n",
              "      spin 1s steps(1) infinite;\n",
              "  }\n",
              "\n",
              "  @keyframes spin {\n",
              "    0% {\n",
              "      border-color: transparent;\n",
              "      border-bottom-color: var(--fill-color);\n",
              "      border-left-color: var(--fill-color);\n",
              "    }\n",
              "    20% {\n",
              "      border-color: transparent;\n",
              "      border-left-color: var(--fill-color);\n",
              "      border-top-color: var(--fill-color);\n",
              "    }\n",
              "    30% {\n",
              "      border-color: transparent;\n",
              "      border-left-color: var(--fill-color);\n",
              "      border-top-color: var(--fill-color);\n",
              "      border-right-color: var(--fill-color);\n",
              "    }\n",
              "    40% {\n",
              "      border-color: transparent;\n",
              "      border-right-color: var(--fill-color);\n",
              "      border-top-color: var(--fill-color);\n",
              "    }\n",
              "    60% {\n",
              "      border-color: transparent;\n",
              "      border-right-color: var(--fill-color);\n",
              "    }\n",
              "    80% {\n",
              "      border-color: transparent;\n",
              "      border-right-color: var(--fill-color);\n",
              "      border-bottom-color: var(--fill-color);\n",
              "    }\n",
              "    90% {\n",
              "      border-color: transparent;\n",
              "      border-bottom-color: var(--fill-color);\n",
              "    }\n",
              "  }\n",
              "</style>\n",
              "\n",
              "  <script>\n",
              "    async function quickchart(key) {\n",
              "      const quickchartButtonEl =\n",
              "        document.querySelector('#' + key + ' button');\n",
              "      quickchartButtonEl.disabled = true;  // To prevent multiple clicks.\n",
              "      quickchartButtonEl.classList.add('colab-df-spinner');\n",
              "      try {\n",
              "        const charts = await google.colab.kernel.invokeFunction(\n",
              "            'suggestCharts', [key], {});\n",
              "      } catch (error) {\n",
              "        console.error('Error during call to suggestCharts:', error);\n",
              "      }\n",
              "      quickchartButtonEl.classList.remove('colab-df-spinner');\n",
              "      quickchartButtonEl.classList.add('colab-df-quickchart-complete');\n",
              "    }\n",
              "    (() => {\n",
              "      let quickchartButtonEl =\n",
              "        document.querySelector('#df-22331e98-92f7-48a7-80ae-3c674573e0c3 button');\n",
              "      quickchartButtonEl.style.display =\n",
              "        google.colab.kernel.accessAllowed ? 'block' : 'none';\n",
              "    })();\n",
              "  </script>\n",
              "</div>\n",
              "    </div>\n",
              "  </div>\n"
            ]
          },
          "metadata": {},
          "execution_count": 4
        }
      ],
      "source": [
        "concrete_data.head()"
      ],
      "id": "e7d044b2"
    },
    {
      "cell_type": "markdown",
      "metadata": {
        "id": "CK1Ot3NrNk8B"
      },
      "source": [
        "#### Get the data feel using pandas methods of `describe`/`info`"
      ],
      "id": "CK1Ot3NrNk8B"
    },
    {
      "cell_type": "code",
      "execution_count": 5,
      "metadata": {
        "colab": {
          "base_uri": "https://localhost:8080/",
          "height": 300
        },
        "id": "Qnc6gWR8M1b2",
        "outputId": "f519161b-949d-4021-88da-266101283599"
      },
      "outputs": [
        {
          "output_type": "execute_result",
          "data": {
            "text/plain": [
              "            Cement  Blast Furnace Slag      Fly Ash        Water  \\\n",
              "count  1030.000000         1030.000000  1030.000000  1030.000000   \n",
              "mean    281.167864           73.895825    54.188350   181.567282   \n",
              "std     104.506364           86.279342    63.997004    21.354219   \n",
              "min     102.000000            0.000000     0.000000   121.800000   \n",
              "25%     192.375000            0.000000     0.000000   164.900000   \n",
              "50%     272.900000           22.000000     0.000000   185.000000   \n",
              "75%     350.000000          142.950000   118.300000   192.000000   \n",
              "max     540.000000          359.400000   200.100000   247.000000   \n",
              "\n",
              "       Superplasticizer  Coarse Aggregate  Fine Aggregate          Age  \\\n",
              "count       1030.000000       1030.000000     1030.000000  1030.000000   \n",
              "mean           6.204660        972.918932      773.580485    45.662136   \n",
              "std            5.973841         77.753954       80.175980    63.169912   \n",
              "min            0.000000        801.000000      594.000000     1.000000   \n",
              "25%            0.000000        932.000000      730.950000     7.000000   \n",
              "50%            6.400000        968.000000      779.500000    28.000000   \n",
              "75%           10.200000       1029.400000      824.000000    56.000000   \n",
              "max           32.200000       1145.000000      992.600000   365.000000   \n",
              "\n",
              "          Strength  \n",
              "count  1030.000000  \n",
              "mean     35.817961  \n",
              "std      16.705742  \n",
              "min       2.330000  \n",
              "25%      23.710000  \n",
              "50%      34.445000  \n",
              "75%      46.135000  \n",
              "max      82.600000  "
            ],
            "text/html": [
              "\n",
              "  <div id=\"df-f7556f4b-321f-447d-9570-c914661e71f9\" class=\"colab-df-container\">\n",
              "    <div>\n",
              "<style scoped>\n",
              "    .dataframe tbody tr th:only-of-type {\n",
              "        vertical-align: middle;\n",
              "    }\n",
              "\n",
              "    .dataframe tbody tr th {\n",
              "        vertical-align: top;\n",
              "    }\n",
              "\n",
              "    .dataframe thead th {\n",
              "        text-align: right;\n",
              "    }\n",
              "</style>\n",
              "<table border=\"1\" class=\"dataframe\">\n",
              "  <thead>\n",
              "    <tr style=\"text-align: right;\">\n",
              "      <th></th>\n",
              "      <th>Cement</th>\n",
              "      <th>Blast Furnace Slag</th>\n",
              "      <th>Fly Ash</th>\n",
              "      <th>Water</th>\n",
              "      <th>Superplasticizer</th>\n",
              "      <th>Coarse Aggregate</th>\n",
              "      <th>Fine Aggregate</th>\n",
              "      <th>Age</th>\n",
              "      <th>Strength</th>\n",
              "    </tr>\n",
              "  </thead>\n",
              "  <tbody>\n",
              "    <tr>\n",
              "      <th>count</th>\n",
              "      <td>1030.000000</td>\n",
              "      <td>1030.000000</td>\n",
              "      <td>1030.000000</td>\n",
              "      <td>1030.000000</td>\n",
              "      <td>1030.000000</td>\n",
              "      <td>1030.000000</td>\n",
              "      <td>1030.000000</td>\n",
              "      <td>1030.000000</td>\n",
              "      <td>1030.000000</td>\n",
              "    </tr>\n",
              "    <tr>\n",
              "      <th>mean</th>\n",
              "      <td>281.167864</td>\n",
              "      <td>73.895825</td>\n",
              "      <td>54.188350</td>\n",
              "      <td>181.567282</td>\n",
              "      <td>6.204660</td>\n",
              "      <td>972.918932</td>\n",
              "      <td>773.580485</td>\n",
              "      <td>45.662136</td>\n",
              "      <td>35.817961</td>\n",
              "    </tr>\n",
              "    <tr>\n",
              "      <th>std</th>\n",
              "      <td>104.506364</td>\n",
              "      <td>86.279342</td>\n",
              "      <td>63.997004</td>\n",
              "      <td>21.354219</td>\n",
              "      <td>5.973841</td>\n",
              "      <td>77.753954</td>\n",
              "      <td>80.175980</td>\n",
              "      <td>63.169912</td>\n",
              "      <td>16.705742</td>\n",
              "    </tr>\n",
              "    <tr>\n",
              "      <th>min</th>\n",
              "      <td>102.000000</td>\n",
              "      <td>0.000000</td>\n",
              "      <td>0.000000</td>\n",
              "      <td>121.800000</td>\n",
              "      <td>0.000000</td>\n",
              "      <td>801.000000</td>\n",
              "      <td>594.000000</td>\n",
              "      <td>1.000000</td>\n",
              "      <td>2.330000</td>\n",
              "    </tr>\n",
              "    <tr>\n",
              "      <th>25%</th>\n",
              "      <td>192.375000</td>\n",
              "      <td>0.000000</td>\n",
              "      <td>0.000000</td>\n",
              "      <td>164.900000</td>\n",
              "      <td>0.000000</td>\n",
              "      <td>932.000000</td>\n",
              "      <td>730.950000</td>\n",
              "      <td>7.000000</td>\n",
              "      <td>23.710000</td>\n",
              "    </tr>\n",
              "    <tr>\n",
              "      <th>50%</th>\n",
              "      <td>272.900000</td>\n",
              "      <td>22.000000</td>\n",
              "      <td>0.000000</td>\n",
              "      <td>185.000000</td>\n",
              "      <td>6.400000</td>\n",
              "      <td>968.000000</td>\n",
              "      <td>779.500000</td>\n",
              "      <td>28.000000</td>\n",
              "      <td>34.445000</td>\n",
              "    </tr>\n",
              "    <tr>\n",
              "      <th>75%</th>\n",
              "      <td>350.000000</td>\n",
              "      <td>142.950000</td>\n",
              "      <td>118.300000</td>\n",
              "      <td>192.000000</td>\n",
              "      <td>10.200000</td>\n",
              "      <td>1029.400000</td>\n",
              "      <td>824.000000</td>\n",
              "      <td>56.000000</td>\n",
              "      <td>46.135000</td>\n",
              "    </tr>\n",
              "    <tr>\n",
              "      <th>max</th>\n",
              "      <td>540.000000</td>\n",
              "      <td>359.400000</td>\n",
              "      <td>200.100000</td>\n",
              "      <td>247.000000</td>\n",
              "      <td>32.200000</td>\n",
              "      <td>1145.000000</td>\n",
              "      <td>992.600000</td>\n",
              "      <td>365.000000</td>\n",
              "      <td>82.600000</td>\n",
              "    </tr>\n",
              "  </tbody>\n",
              "</table>\n",
              "</div>\n",
              "    <div class=\"colab-df-buttons\">\n",
              "\n",
              "  <div class=\"colab-df-container\">\n",
              "    <button class=\"colab-df-convert\" onclick=\"convertToInteractive('df-f7556f4b-321f-447d-9570-c914661e71f9')\"\n",
              "            title=\"Convert this dataframe to an interactive table.\"\n",
              "            style=\"display:none;\">\n",
              "\n",
              "  <svg xmlns=\"http://www.w3.org/2000/svg\" height=\"24px\" viewBox=\"0 -960 960 960\">\n",
              "    <path d=\"M120-120v-720h720v720H120Zm60-500h600v-160H180v160Zm220 220h160v-160H400v160Zm0 220h160v-160H400v160ZM180-400h160v-160H180v160Zm440 0h160v-160H620v160ZM180-180h160v-160H180v160Zm440 0h160v-160H620v160Z\"/>\n",
              "  </svg>\n",
              "    </button>\n",
              "\n",
              "  <style>\n",
              "    .colab-df-container {\n",
              "      display:flex;\n",
              "      gap: 12px;\n",
              "    }\n",
              "\n",
              "    .colab-df-convert {\n",
              "      background-color: #E8F0FE;\n",
              "      border: none;\n",
              "      border-radius: 50%;\n",
              "      cursor: pointer;\n",
              "      display: none;\n",
              "      fill: #1967D2;\n",
              "      height: 32px;\n",
              "      padding: 0 0 0 0;\n",
              "      width: 32px;\n",
              "    }\n",
              "\n",
              "    .colab-df-convert:hover {\n",
              "      background-color: #E2EBFA;\n",
              "      box-shadow: 0px 1px 2px rgba(60, 64, 67, 0.3), 0px 1px 3px 1px rgba(60, 64, 67, 0.15);\n",
              "      fill: #174EA6;\n",
              "    }\n",
              "\n",
              "    .colab-df-buttons div {\n",
              "      margin-bottom: 4px;\n",
              "    }\n",
              "\n",
              "    [theme=dark] .colab-df-convert {\n",
              "      background-color: #3B4455;\n",
              "      fill: #D2E3FC;\n",
              "    }\n",
              "\n",
              "    [theme=dark] .colab-df-convert:hover {\n",
              "      background-color: #434B5C;\n",
              "      box-shadow: 0px 1px 3px 1px rgba(0, 0, 0, 0.15);\n",
              "      filter: drop-shadow(0px 1px 2px rgba(0, 0, 0, 0.3));\n",
              "      fill: #FFFFFF;\n",
              "    }\n",
              "  </style>\n",
              "\n",
              "    <script>\n",
              "      const buttonEl =\n",
              "        document.querySelector('#df-f7556f4b-321f-447d-9570-c914661e71f9 button.colab-df-convert');\n",
              "      buttonEl.style.display =\n",
              "        google.colab.kernel.accessAllowed ? 'block' : 'none';\n",
              "\n",
              "      async function convertToInteractive(key) {\n",
              "        const element = document.querySelector('#df-f7556f4b-321f-447d-9570-c914661e71f9');\n",
              "        const dataTable =\n",
              "          await google.colab.kernel.invokeFunction('convertToInteractive',\n",
              "                                                    [key], {});\n",
              "        if (!dataTable) return;\n",
              "\n",
              "        const docLinkHtml = 'Like what you see? Visit the ' +\n",
              "          '<a target=\"_blank\" href=https://colab.research.google.com/notebooks/data_table.ipynb>data table notebook</a>'\n",
              "          + ' to learn more about interactive tables.';\n",
              "        element.innerHTML = '';\n",
              "        dataTable['output_type'] = 'display_data';\n",
              "        await google.colab.output.renderOutput(dataTable, element);\n",
              "        const docLink = document.createElement('div');\n",
              "        docLink.innerHTML = docLinkHtml;\n",
              "        element.appendChild(docLink);\n",
              "      }\n",
              "    </script>\n",
              "  </div>\n",
              "\n",
              "\n",
              "<div id=\"df-4637d00b-1bc7-496a-b2ef-2e293cd13f75\">\n",
              "  <button class=\"colab-df-quickchart\" onclick=\"quickchart('df-4637d00b-1bc7-496a-b2ef-2e293cd13f75')\"\n",
              "            title=\"Suggest charts.\"\n",
              "            style=\"display:none;\">\n",
              "\n",
              "<svg xmlns=\"http://www.w3.org/2000/svg\" height=\"24px\"viewBox=\"0 0 24 24\"\n",
              "     width=\"24px\">\n",
              "    <g>\n",
              "        <path d=\"M19 3H5c-1.1 0-2 .9-2 2v14c0 1.1.9 2 2 2h14c1.1 0 2-.9 2-2V5c0-1.1-.9-2-2-2zM9 17H7v-7h2v7zm4 0h-2V7h2v10zm4 0h-2v-4h2v4z\"/>\n",
              "    </g>\n",
              "</svg>\n",
              "  </button>\n",
              "\n",
              "<style>\n",
              "  .colab-df-quickchart {\n",
              "      --bg-color: #E8F0FE;\n",
              "      --fill-color: #1967D2;\n",
              "      --hover-bg-color: #E2EBFA;\n",
              "      --hover-fill-color: #174EA6;\n",
              "      --disabled-fill-color: #AAA;\n",
              "      --disabled-bg-color: #DDD;\n",
              "  }\n",
              "\n",
              "  [theme=dark] .colab-df-quickchart {\n",
              "      --bg-color: #3B4455;\n",
              "      --fill-color: #D2E3FC;\n",
              "      --hover-bg-color: #434B5C;\n",
              "      --hover-fill-color: #FFFFFF;\n",
              "      --disabled-bg-color: #3B4455;\n",
              "      --disabled-fill-color: #666;\n",
              "  }\n",
              "\n",
              "  .colab-df-quickchart {\n",
              "    background-color: var(--bg-color);\n",
              "    border: none;\n",
              "    border-radius: 50%;\n",
              "    cursor: pointer;\n",
              "    display: none;\n",
              "    fill: var(--fill-color);\n",
              "    height: 32px;\n",
              "    padding: 0;\n",
              "    width: 32px;\n",
              "  }\n",
              "\n",
              "  .colab-df-quickchart:hover {\n",
              "    background-color: var(--hover-bg-color);\n",
              "    box-shadow: 0 1px 2px rgba(60, 64, 67, 0.3), 0 1px 3px 1px rgba(60, 64, 67, 0.15);\n",
              "    fill: var(--button-hover-fill-color);\n",
              "  }\n",
              "\n",
              "  .colab-df-quickchart-complete:disabled,\n",
              "  .colab-df-quickchart-complete:disabled:hover {\n",
              "    background-color: var(--disabled-bg-color);\n",
              "    fill: var(--disabled-fill-color);\n",
              "    box-shadow: none;\n",
              "  }\n",
              "\n",
              "  .colab-df-spinner {\n",
              "    border: 2px solid var(--fill-color);\n",
              "    border-color: transparent;\n",
              "    border-bottom-color: var(--fill-color);\n",
              "    animation:\n",
              "      spin 1s steps(1) infinite;\n",
              "  }\n",
              "\n",
              "  @keyframes spin {\n",
              "    0% {\n",
              "      border-color: transparent;\n",
              "      border-bottom-color: var(--fill-color);\n",
              "      border-left-color: var(--fill-color);\n",
              "    }\n",
              "    20% {\n",
              "      border-color: transparent;\n",
              "      border-left-color: var(--fill-color);\n",
              "      border-top-color: var(--fill-color);\n",
              "    }\n",
              "    30% {\n",
              "      border-color: transparent;\n",
              "      border-left-color: var(--fill-color);\n",
              "      border-top-color: var(--fill-color);\n",
              "      border-right-color: var(--fill-color);\n",
              "    }\n",
              "    40% {\n",
              "      border-color: transparent;\n",
              "      border-right-color: var(--fill-color);\n",
              "      border-top-color: var(--fill-color);\n",
              "    }\n",
              "    60% {\n",
              "      border-color: transparent;\n",
              "      border-right-color: var(--fill-color);\n",
              "    }\n",
              "    80% {\n",
              "      border-color: transparent;\n",
              "      border-right-color: var(--fill-color);\n",
              "      border-bottom-color: var(--fill-color);\n",
              "    }\n",
              "    90% {\n",
              "      border-color: transparent;\n",
              "      border-bottom-color: var(--fill-color);\n",
              "    }\n",
              "  }\n",
              "</style>\n",
              "\n",
              "  <script>\n",
              "    async function quickchart(key) {\n",
              "      const quickchartButtonEl =\n",
              "        document.querySelector('#' + key + ' button');\n",
              "      quickchartButtonEl.disabled = true;  // To prevent multiple clicks.\n",
              "      quickchartButtonEl.classList.add('colab-df-spinner');\n",
              "      try {\n",
              "        const charts = await google.colab.kernel.invokeFunction(\n",
              "            'suggestCharts', [key], {});\n",
              "      } catch (error) {\n",
              "        console.error('Error during call to suggestCharts:', error);\n",
              "      }\n",
              "      quickchartButtonEl.classList.remove('colab-df-spinner');\n",
              "      quickchartButtonEl.classList.add('colab-df-quickchart-complete');\n",
              "    }\n",
              "    (() => {\n",
              "      let quickchartButtonEl =\n",
              "        document.querySelector('#df-4637d00b-1bc7-496a-b2ef-2e293cd13f75 button');\n",
              "      quickchartButtonEl.style.display =\n",
              "        google.colab.kernel.accessAllowed ? 'block' : 'none';\n",
              "    })();\n",
              "  </script>\n",
              "</div>\n",
              "    </div>\n",
              "  </div>\n"
            ]
          },
          "metadata": {},
          "execution_count": 5
        }
      ],
      "source": [
        "concrete_data.describe()"
      ],
      "id": "Qnc6gWR8M1b2"
    },
    {
      "cell_type": "code",
      "execution_count": 6,
      "metadata": {
        "colab": {
          "base_uri": "https://localhost:8080/"
        },
        "id": "K4U9ElfxM-Du",
        "outputId": "6ddd5177-c4e4-4681-e0c6-71504f618a4b"
      },
      "outputs": [
        {
          "output_type": "stream",
          "name": "stdout",
          "text": [
            "<class 'pandas.core.frame.DataFrame'>\n",
            "RangeIndex: 1030 entries, 0 to 1029\n",
            "Data columns (total 9 columns):\n",
            " #   Column              Non-Null Count  Dtype  \n",
            "---  ------              --------------  -----  \n",
            " 0   Cement              1030 non-null   float64\n",
            " 1   Blast Furnace Slag  1030 non-null   float64\n",
            " 2   Fly Ash             1030 non-null   float64\n",
            " 3   Water               1030 non-null   float64\n",
            " 4   Superplasticizer    1030 non-null   float64\n",
            " 5   Coarse Aggregate    1030 non-null   float64\n",
            " 6   Fine Aggregate      1030 non-null   float64\n",
            " 7   Age                 1030 non-null   int64  \n",
            " 8   Strength            1030 non-null   float64\n",
            "dtypes: float64(8), int64(1)\n",
            "memory usage: 72.5 KB\n"
          ]
        }
      ],
      "source": [
        "concrete_data.info()"
      ],
      "id": "K4U9ElfxM-Du"
    },
    {
      "cell_type": "markdown",
      "metadata": {
        "id": "FfnJsTOlN_tt"
      },
      "source": [
        "#### Check for basics like `shape`,`no of samples`"
      ],
      "id": "FfnJsTOlN_tt"
    },
    {
      "cell_type": "code",
      "execution_count": 7,
      "metadata": {
        "colab": {
          "base_uri": "https://localhost:8080/"
        },
        "id": "pcDlKr8gOJP6",
        "outputId": "da21eef2-3c85-41b5-8ca6-8c002bdf7a01"
      },
      "outputs": [
        {
          "output_type": "stream",
          "name": "stdout",
          "text": [
            "Shape of the DataFrame:  (1030, 9)\n"
          ]
        }
      ],
      "source": [
        "# Get the shape of the dataframe\n",
        "print(\"Shape of the DataFrame: \", concrete_data.shape)"
      ],
      "id": "pcDlKr8gOJP6"
    },
    {
      "cell_type": "code",
      "execution_count": 8,
      "metadata": {
        "colab": {
          "base_uri": "https://localhost:8080/"
        },
        "id": "ceH7s4qcOPGh",
        "outputId": "486fc038-c864-432f-c2c7-9c62c202b83c"
      },
      "outputs": [
        {
          "output_type": "stream",
          "name": "stdout",
          "text": [
            "Number of samples:  1030\n"
          ]
        }
      ],
      "source": [
        "# Get the number of samples\n",
        "print(\"Number of samples: \", len(concrete_data))"
      ],
      "id": "ceH7s4qcOPGh"
    },
    {
      "cell_type": "code",
      "execution_count": null,
      "metadata": {
        "id": "ba1c8d71"
      },
      "outputs": [],
      "source": [
        "#check if there are null values, and discard null values"
      ],
      "id": "ba1c8d71"
    },
    {
      "cell_type": "markdown",
      "metadata": {
        "id": "Jn0ULXFXP-i5"
      },
      "source": [
        "#### Check if there are `null` values, and discard `null` values"
      ],
      "id": "Jn0ULXFXP-i5"
    },
    {
      "cell_type": "code",
      "execution_count": 9,
      "metadata": {
        "colab": {
          "base_uri": "https://localhost:8080/"
        },
        "id": "qavehMKrOnRl",
        "outputId": "79ab51df-5cd7-43fd-91f5-4b615988e428"
      },
      "outputs": [
        {
          "output_type": "stream",
          "name": "stdout",
          "text": [
            "Null values in DataFrame: \n",
            " Cement                0\n",
            "Blast Furnace Slag    0\n",
            "Fly Ash               0\n",
            "Water                 0\n",
            "Superplasticizer      0\n",
            "Coarse Aggregate      0\n",
            "Fine Aggregate        0\n",
            "Age                   0\n",
            "Strength              0\n",
            "dtype: int64\n",
            "There are no null values in the dataset\n"
          ]
        }
      ],
      "source": [
        "# Check for null values\n",
        "null_values = concrete_data.isnull().sum()\n",
        "print(\"Null values in DataFrame: \\n\", null_values)\n",
        "\n",
        "if null_values.any() == 0:\n",
        "    print(\"There are no null values in the dataset\")"
      ],
      "id": "qavehMKrOnRl"
    },
    {
      "cell_type": "code",
      "execution_count": null,
      "metadata": {
        "id": "f71c1b0d"
      },
      "outputs": [],
      "source": [
        "## so the data is free from null values, we can safely go ahead"
      ],
      "id": "f71c1b0d"
    },
    {
      "cell_type": "markdown",
      "metadata": {
        "id": "f80bef15-b8e4-43f0-b7d8-81cc4649db8b"
      },
      "source": [
        "#### Splitting data into predictors/features and target labels\n",
        "\n",
        "*   List item\n",
        "*   List item\n",
        "\n"
      ],
      "id": "f80bef15-b8e4-43f0-b7d8-81cc4649db8b"
    },
    {
      "cell_type": "code",
      "execution_count": null,
      "metadata": {
        "id": "86d6c704"
      },
      "outputs": [],
      "source": [
        "#X =      (features)"
      ],
      "id": "86d6c704"
    },
    {
      "cell_type": "code",
      "execution_count": 10,
      "metadata": {
        "colab": {
          "base_uri": "https://localhost:8080/",
          "height": 241
        },
        "id": "CzjR2vd-Q4A7",
        "outputId": "b8f41221-25b5-43a0-bcf6-16feff0c6316"
      },
      "outputs": [
        {
          "output_type": "stream",
          "name": "stdout",
          "text": [
            "Features: \n",
            "\n"
          ]
        },
        {
          "output_type": "execute_result",
          "data": {
            "text/plain": [
              "   Cement  Blast Furnace Slag  Fly Ash  Water  Superplasticizer  \\\n",
              "0   540.0                 0.0      0.0  162.0               2.5   \n",
              "1   540.0                 0.0      0.0  162.0               2.5   \n",
              "2   332.5               142.5      0.0  228.0               0.0   \n",
              "3   332.5               142.5      0.0  228.0               0.0   \n",
              "4   198.6               132.4      0.0  192.0               0.0   \n",
              "\n",
              "   Coarse Aggregate  Fine Aggregate  Age  \n",
              "0            1040.0           676.0   28  \n",
              "1            1055.0           676.0   28  \n",
              "2             932.0           594.0  270  \n",
              "3             932.0           594.0  365  \n",
              "4             978.4           825.5  360  "
            ],
            "text/html": [
              "\n",
              "  <div id=\"df-1b468bf4-e0a9-46fd-9707-b0bb3bb4f865\" class=\"colab-df-container\">\n",
              "    <div>\n",
              "<style scoped>\n",
              "    .dataframe tbody tr th:only-of-type {\n",
              "        vertical-align: middle;\n",
              "    }\n",
              "\n",
              "    .dataframe tbody tr th {\n",
              "        vertical-align: top;\n",
              "    }\n",
              "\n",
              "    .dataframe thead th {\n",
              "        text-align: right;\n",
              "    }\n",
              "</style>\n",
              "<table border=\"1\" class=\"dataframe\">\n",
              "  <thead>\n",
              "    <tr style=\"text-align: right;\">\n",
              "      <th></th>\n",
              "      <th>Cement</th>\n",
              "      <th>Blast Furnace Slag</th>\n",
              "      <th>Fly Ash</th>\n",
              "      <th>Water</th>\n",
              "      <th>Superplasticizer</th>\n",
              "      <th>Coarse Aggregate</th>\n",
              "      <th>Fine Aggregate</th>\n",
              "      <th>Age</th>\n",
              "    </tr>\n",
              "  </thead>\n",
              "  <tbody>\n",
              "    <tr>\n",
              "      <th>0</th>\n",
              "      <td>540.0</td>\n",
              "      <td>0.0</td>\n",
              "      <td>0.0</td>\n",
              "      <td>162.0</td>\n",
              "      <td>2.5</td>\n",
              "      <td>1040.0</td>\n",
              "      <td>676.0</td>\n",
              "      <td>28</td>\n",
              "    </tr>\n",
              "    <tr>\n",
              "      <th>1</th>\n",
              "      <td>540.0</td>\n",
              "      <td>0.0</td>\n",
              "      <td>0.0</td>\n",
              "      <td>162.0</td>\n",
              "      <td>2.5</td>\n",
              "      <td>1055.0</td>\n",
              "      <td>676.0</td>\n",
              "      <td>28</td>\n",
              "    </tr>\n",
              "    <tr>\n",
              "      <th>2</th>\n",
              "      <td>332.5</td>\n",
              "      <td>142.5</td>\n",
              "      <td>0.0</td>\n",
              "      <td>228.0</td>\n",
              "      <td>0.0</td>\n",
              "      <td>932.0</td>\n",
              "      <td>594.0</td>\n",
              "      <td>270</td>\n",
              "    </tr>\n",
              "    <tr>\n",
              "      <th>3</th>\n",
              "      <td>332.5</td>\n",
              "      <td>142.5</td>\n",
              "      <td>0.0</td>\n",
              "      <td>228.0</td>\n",
              "      <td>0.0</td>\n",
              "      <td>932.0</td>\n",
              "      <td>594.0</td>\n",
              "      <td>365</td>\n",
              "    </tr>\n",
              "    <tr>\n",
              "      <th>4</th>\n",
              "      <td>198.6</td>\n",
              "      <td>132.4</td>\n",
              "      <td>0.0</td>\n",
              "      <td>192.0</td>\n",
              "      <td>0.0</td>\n",
              "      <td>978.4</td>\n",
              "      <td>825.5</td>\n",
              "      <td>360</td>\n",
              "    </tr>\n",
              "  </tbody>\n",
              "</table>\n",
              "</div>\n",
              "    <div class=\"colab-df-buttons\">\n",
              "\n",
              "  <div class=\"colab-df-container\">\n",
              "    <button class=\"colab-df-convert\" onclick=\"convertToInteractive('df-1b468bf4-e0a9-46fd-9707-b0bb3bb4f865')\"\n",
              "            title=\"Convert this dataframe to an interactive table.\"\n",
              "            style=\"display:none;\">\n",
              "\n",
              "  <svg xmlns=\"http://www.w3.org/2000/svg\" height=\"24px\" viewBox=\"0 -960 960 960\">\n",
              "    <path d=\"M120-120v-720h720v720H120Zm60-500h600v-160H180v160Zm220 220h160v-160H400v160Zm0 220h160v-160H400v160ZM180-400h160v-160H180v160Zm440 0h160v-160H620v160ZM180-180h160v-160H180v160Zm440 0h160v-160H620v160Z\"/>\n",
              "  </svg>\n",
              "    </button>\n",
              "\n",
              "  <style>\n",
              "    .colab-df-container {\n",
              "      display:flex;\n",
              "      gap: 12px;\n",
              "    }\n",
              "\n",
              "    .colab-df-convert {\n",
              "      background-color: #E8F0FE;\n",
              "      border: none;\n",
              "      border-radius: 50%;\n",
              "      cursor: pointer;\n",
              "      display: none;\n",
              "      fill: #1967D2;\n",
              "      height: 32px;\n",
              "      padding: 0 0 0 0;\n",
              "      width: 32px;\n",
              "    }\n",
              "\n",
              "    .colab-df-convert:hover {\n",
              "      background-color: #E2EBFA;\n",
              "      box-shadow: 0px 1px 2px rgba(60, 64, 67, 0.3), 0px 1px 3px 1px rgba(60, 64, 67, 0.15);\n",
              "      fill: #174EA6;\n",
              "    }\n",
              "\n",
              "    .colab-df-buttons div {\n",
              "      margin-bottom: 4px;\n",
              "    }\n",
              "\n",
              "    [theme=dark] .colab-df-convert {\n",
              "      background-color: #3B4455;\n",
              "      fill: #D2E3FC;\n",
              "    }\n",
              "\n",
              "    [theme=dark] .colab-df-convert:hover {\n",
              "      background-color: #434B5C;\n",
              "      box-shadow: 0px 1px 3px 1px rgba(0, 0, 0, 0.15);\n",
              "      filter: drop-shadow(0px 1px 2px rgba(0, 0, 0, 0.3));\n",
              "      fill: #FFFFFF;\n",
              "    }\n",
              "  </style>\n",
              "\n",
              "    <script>\n",
              "      const buttonEl =\n",
              "        document.querySelector('#df-1b468bf4-e0a9-46fd-9707-b0bb3bb4f865 button.colab-df-convert');\n",
              "      buttonEl.style.display =\n",
              "        google.colab.kernel.accessAllowed ? 'block' : 'none';\n",
              "\n",
              "      async function convertToInteractive(key) {\n",
              "        const element = document.querySelector('#df-1b468bf4-e0a9-46fd-9707-b0bb3bb4f865');\n",
              "        const dataTable =\n",
              "          await google.colab.kernel.invokeFunction('convertToInteractive',\n",
              "                                                    [key], {});\n",
              "        if (!dataTable) return;\n",
              "\n",
              "        const docLinkHtml = 'Like what you see? Visit the ' +\n",
              "          '<a target=\"_blank\" href=https://colab.research.google.com/notebooks/data_table.ipynb>data table notebook</a>'\n",
              "          + ' to learn more about interactive tables.';\n",
              "        element.innerHTML = '';\n",
              "        dataTable['output_type'] = 'display_data';\n",
              "        await google.colab.output.renderOutput(dataTable, element);\n",
              "        const docLink = document.createElement('div');\n",
              "        docLink.innerHTML = docLinkHtml;\n",
              "        element.appendChild(docLink);\n",
              "      }\n",
              "    </script>\n",
              "  </div>\n",
              "\n",
              "\n",
              "<div id=\"df-71c25215-0799-4463-a8bb-40990ef246b0\">\n",
              "  <button class=\"colab-df-quickchart\" onclick=\"quickchart('df-71c25215-0799-4463-a8bb-40990ef246b0')\"\n",
              "            title=\"Suggest charts.\"\n",
              "            style=\"display:none;\">\n",
              "\n",
              "<svg xmlns=\"http://www.w3.org/2000/svg\" height=\"24px\"viewBox=\"0 0 24 24\"\n",
              "     width=\"24px\">\n",
              "    <g>\n",
              "        <path d=\"M19 3H5c-1.1 0-2 .9-2 2v14c0 1.1.9 2 2 2h14c1.1 0 2-.9 2-2V5c0-1.1-.9-2-2-2zM9 17H7v-7h2v7zm4 0h-2V7h2v10zm4 0h-2v-4h2v4z\"/>\n",
              "    </g>\n",
              "</svg>\n",
              "  </button>\n",
              "\n",
              "<style>\n",
              "  .colab-df-quickchart {\n",
              "      --bg-color: #E8F0FE;\n",
              "      --fill-color: #1967D2;\n",
              "      --hover-bg-color: #E2EBFA;\n",
              "      --hover-fill-color: #174EA6;\n",
              "      --disabled-fill-color: #AAA;\n",
              "      --disabled-bg-color: #DDD;\n",
              "  }\n",
              "\n",
              "  [theme=dark] .colab-df-quickchart {\n",
              "      --bg-color: #3B4455;\n",
              "      --fill-color: #D2E3FC;\n",
              "      --hover-bg-color: #434B5C;\n",
              "      --hover-fill-color: #FFFFFF;\n",
              "      --disabled-bg-color: #3B4455;\n",
              "      --disabled-fill-color: #666;\n",
              "  }\n",
              "\n",
              "  .colab-df-quickchart {\n",
              "    background-color: var(--bg-color);\n",
              "    border: none;\n",
              "    border-radius: 50%;\n",
              "    cursor: pointer;\n",
              "    display: none;\n",
              "    fill: var(--fill-color);\n",
              "    height: 32px;\n",
              "    padding: 0;\n",
              "    width: 32px;\n",
              "  }\n",
              "\n",
              "  .colab-df-quickchart:hover {\n",
              "    background-color: var(--hover-bg-color);\n",
              "    box-shadow: 0 1px 2px rgba(60, 64, 67, 0.3), 0 1px 3px 1px rgba(60, 64, 67, 0.15);\n",
              "    fill: var(--button-hover-fill-color);\n",
              "  }\n",
              "\n",
              "  .colab-df-quickchart-complete:disabled,\n",
              "  .colab-df-quickchart-complete:disabled:hover {\n",
              "    background-color: var(--disabled-bg-color);\n",
              "    fill: var(--disabled-fill-color);\n",
              "    box-shadow: none;\n",
              "  }\n",
              "\n",
              "  .colab-df-spinner {\n",
              "    border: 2px solid var(--fill-color);\n",
              "    border-color: transparent;\n",
              "    border-bottom-color: var(--fill-color);\n",
              "    animation:\n",
              "      spin 1s steps(1) infinite;\n",
              "  }\n",
              "\n",
              "  @keyframes spin {\n",
              "    0% {\n",
              "      border-color: transparent;\n",
              "      border-bottom-color: var(--fill-color);\n",
              "      border-left-color: var(--fill-color);\n",
              "    }\n",
              "    20% {\n",
              "      border-color: transparent;\n",
              "      border-left-color: var(--fill-color);\n",
              "      border-top-color: var(--fill-color);\n",
              "    }\n",
              "    30% {\n",
              "      border-color: transparent;\n",
              "      border-left-color: var(--fill-color);\n",
              "      border-top-color: var(--fill-color);\n",
              "      border-right-color: var(--fill-color);\n",
              "    }\n",
              "    40% {\n",
              "      border-color: transparent;\n",
              "      border-right-color: var(--fill-color);\n",
              "      border-top-color: var(--fill-color);\n",
              "    }\n",
              "    60% {\n",
              "      border-color: transparent;\n",
              "      border-right-color: var(--fill-color);\n",
              "    }\n",
              "    80% {\n",
              "      border-color: transparent;\n",
              "      border-right-color: var(--fill-color);\n",
              "      border-bottom-color: var(--fill-color);\n",
              "    }\n",
              "    90% {\n",
              "      border-color: transparent;\n",
              "      border-bottom-color: var(--fill-color);\n",
              "    }\n",
              "  }\n",
              "</style>\n",
              "\n",
              "  <script>\n",
              "    async function quickchart(key) {\n",
              "      const quickchartButtonEl =\n",
              "        document.querySelector('#' + key + ' button');\n",
              "      quickchartButtonEl.disabled = true;  // To prevent multiple clicks.\n",
              "      quickchartButtonEl.classList.add('colab-df-spinner');\n",
              "      try {\n",
              "        const charts = await google.colab.kernel.invokeFunction(\n",
              "            'suggestCharts', [key], {});\n",
              "      } catch (error) {\n",
              "        console.error('Error during call to suggestCharts:', error);\n",
              "      }\n",
              "      quickchartButtonEl.classList.remove('colab-df-spinner');\n",
              "      quickchartButtonEl.classList.add('colab-df-quickchart-complete');\n",
              "    }\n",
              "    (() => {\n",
              "      let quickchartButtonEl =\n",
              "        document.querySelector('#df-71c25215-0799-4463-a8bb-40990ef246b0 button');\n",
              "      quickchartButtonEl.style.display =\n",
              "        google.colab.kernel.accessAllowed ? 'block' : 'none';\n",
              "    })();\n",
              "  </script>\n",
              "</div>\n",
              "    </div>\n",
              "  </div>\n"
            ]
          },
          "metadata": {},
          "execution_count": 10
        }
      ],
      "source": [
        "# In this code, drop is used to remove the ‘Strength’ column from the features,\n",
        "# and the remaining columns are used as features.\n",
        "X = concrete_data.drop('Strength', axis=1)  # Features\n",
        "\n",
        "print(\"Features: \\n\")\n",
        "X.head()"
      ],
      "id": "CzjR2vd-Q4A7"
    },
    {
      "cell_type": "code",
      "execution_count": null,
      "metadata": {
        "id": "23261f67"
      },
      "outputs": [],
      "source": [
        "#y =        # targets"
      ],
      "id": "23261f67"
    },
    {
      "cell_type": "code",
      "execution_count": 11,
      "metadata": {
        "colab": {
          "base_uri": "https://localhost:8080/",
          "height": 241
        },
        "id": "15MXq4A7RaNL",
        "outputId": "f1b89a96-12d4-49d2-c320-dbfa693c7618"
      },
      "outputs": [
        {
          "output_type": "stream",
          "name": "stdout",
          "text": [
            "Targets: \n",
            "\n"
          ]
        },
        {
          "output_type": "execute_result",
          "data": {
            "text/plain": [
              "   Strength\n",
              "0     79.99\n",
              "1     61.89\n",
              "2     40.27\n",
              "3     41.05\n",
              "4     44.30"
            ],
            "text/html": [
              "\n",
              "  <div id=\"df-06751b13-b781-4cf1-b037-9bfc88d4604b\" class=\"colab-df-container\">\n",
              "    <div>\n",
              "<style scoped>\n",
              "    .dataframe tbody tr th:only-of-type {\n",
              "        vertical-align: middle;\n",
              "    }\n",
              "\n",
              "    .dataframe tbody tr th {\n",
              "        vertical-align: top;\n",
              "    }\n",
              "\n",
              "    .dataframe thead th {\n",
              "        text-align: right;\n",
              "    }\n",
              "</style>\n",
              "<table border=\"1\" class=\"dataframe\">\n",
              "  <thead>\n",
              "    <tr style=\"text-align: right;\">\n",
              "      <th></th>\n",
              "      <th>Strength</th>\n",
              "    </tr>\n",
              "  </thead>\n",
              "  <tbody>\n",
              "    <tr>\n",
              "      <th>0</th>\n",
              "      <td>79.99</td>\n",
              "    </tr>\n",
              "    <tr>\n",
              "      <th>1</th>\n",
              "      <td>61.89</td>\n",
              "    </tr>\n",
              "    <tr>\n",
              "      <th>2</th>\n",
              "      <td>40.27</td>\n",
              "    </tr>\n",
              "    <tr>\n",
              "      <th>3</th>\n",
              "      <td>41.05</td>\n",
              "    </tr>\n",
              "    <tr>\n",
              "      <th>4</th>\n",
              "      <td>44.30</td>\n",
              "    </tr>\n",
              "  </tbody>\n",
              "</table>\n",
              "</div>\n",
              "    <div class=\"colab-df-buttons\">\n",
              "\n",
              "  <div class=\"colab-df-container\">\n",
              "    <button class=\"colab-df-convert\" onclick=\"convertToInteractive('df-06751b13-b781-4cf1-b037-9bfc88d4604b')\"\n",
              "            title=\"Convert this dataframe to an interactive table.\"\n",
              "            style=\"display:none;\">\n",
              "\n",
              "  <svg xmlns=\"http://www.w3.org/2000/svg\" height=\"24px\" viewBox=\"0 -960 960 960\">\n",
              "    <path d=\"M120-120v-720h720v720H120Zm60-500h600v-160H180v160Zm220 220h160v-160H400v160Zm0 220h160v-160H400v160ZM180-400h160v-160H180v160Zm440 0h160v-160H620v160ZM180-180h160v-160H180v160Zm440 0h160v-160H620v160Z\"/>\n",
              "  </svg>\n",
              "    </button>\n",
              "\n",
              "  <style>\n",
              "    .colab-df-container {\n",
              "      display:flex;\n",
              "      gap: 12px;\n",
              "    }\n",
              "\n",
              "    .colab-df-convert {\n",
              "      background-color: #E8F0FE;\n",
              "      border: none;\n",
              "      border-radius: 50%;\n",
              "      cursor: pointer;\n",
              "      display: none;\n",
              "      fill: #1967D2;\n",
              "      height: 32px;\n",
              "      padding: 0 0 0 0;\n",
              "      width: 32px;\n",
              "    }\n",
              "\n",
              "    .colab-df-convert:hover {\n",
              "      background-color: #E2EBFA;\n",
              "      box-shadow: 0px 1px 2px rgba(60, 64, 67, 0.3), 0px 1px 3px 1px rgba(60, 64, 67, 0.15);\n",
              "      fill: #174EA6;\n",
              "    }\n",
              "\n",
              "    .colab-df-buttons div {\n",
              "      margin-bottom: 4px;\n",
              "    }\n",
              "\n",
              "    [theme=dark] .colab-df-convert {\n",
              "      background-color: #3B4455;\n",
              "      fill: #D2E3FC;\n",
              "    }\n",
              "\n",
              "    [theme=dark] .colab-df-convert:hover {\n",
              "      background-color: #434B5C;\n",
              "      box-shadow: 0px 1px 3px 1px rgba(0, 0, 0, 0.15);\n",
              "      filter: drop-shadow(0px 1px 2px rgba(0, 0, 0, 0.3));\n",
              "      fill: #FFFFFF;\n",
              "    }\n",
              "  </style>\n",
              "\n",
              "    <script>\n",
              "      const buttonEl =\n",
              "        document.querySelector('#df-06751b13-b781-4cf1-b037-9bfc88d4604b button.colab-df-convert');\n",
              "      buttonEl.style.display =\n",
              "        google.colab.kernel.accessAllowed ? 'block' : 'none';\n",
              "\n",
              "      async function convertToInteractive(key) {\n",
              "        const element = document.querySelector('#df-06751b13-b781-4cf1-b037-9bfc88d4604b');\n",
              "        const dataTable =\n",
              "          await google.colab.kernel.invokeFunction('convertToInteractive',\n",
              "                                                    [key], {});\n",
              "        if (!dataTable) return;\n",
              "\n",
              "        const docLinkHtml = 'Like what you see? Visit the ' +\n",
              "          '<a target=\"_blank\" href=https://colab.research.google.com/notebooks/data_table.ipynb>data table notebook</a>'\n",
              "          + ' to learn more about interactive tables.';\n",
              "        element.innerHTML = '';\n",
              "        dataTable['output_type'] = 'display_data';\n",
              "        await google.colab.output.renderOutput(dataTable, element);\n",
              "        const docLink = document.createElement('div');\n",
              "        docLink.innerHTML = docLinkHtml;\n",
              "        element.appendChild(docLink);\n",
              "      }\n",
              "    </script>\n",
              "  </div>\n",
              "\n",
              "\n",
              "<div id=\"df-340986d4-b695-46f1-abea-9646ea557e4a\">\n",
              "  <button class=\"colab-df-quickchart\" onclick=\"quickchart('df-340986d4-b695-46f1-abea-9646ea557e4a')\"\n",
              "            title=\"Suggest charts.\"\n",
              "            style=\"display:none;\">\n",
              "\n",
              "<svg xmlns=\"http://www.w3.org/2000/svg\" height=\"24px\"viewBox=\"0 0 24 24\"\n",
              "     width=\"24px\">\n",
              "    <g>\n",
              "        <path d=\"M19 3H5c-1.1 0-2 .9-2 2v14c0 1.1.9 2 2 2h14c1.1 0 2-.9 2-2V5c0-1.1-.9-2-2-2zM9 17H7v-7h2v7zm4 0h-2V7h2v10zm4 0h-2v-4h2v4z\"/>\n",
              "    </g>\n",
              "</svg>\n",
              "  </button>\n",
              "\n",
              "<style>\n",
              "  .colab-df-quickchart {\n",
              "      --bg-color: #E8F0FE;\n",
              "      --fill-color: #1967D2;\n",
              "      --hover-bg-color: #E2EBFA;\n",
              "      --hover-fill-color: #174EA6;\n",
              "      --disabled-fill-color: #AAA;\n",
              "      --disabled-bg-color: #DDD;\n",
              "  }\n",
              "\n",
              "  [theme=dark] .colab-df-quickchart {\n",
              "      --bg-color: #3B4455;\n",
              "      --fill-color: #D2E3FC;\n",
              "      --hover-bg-color: #434B5C;\n",
              "      --hover-fill-color: #FFFFFF;\n",
              "      --disabled-bg-color: #3B4455;\n",
              "      --disabled-fill-color: #666;\n",
              "  }\n",
              "\n",
              "  .colab-df-quickchart {\n",
              "    background-color: var(--bg-color);\n",
              "    border: none;\n",
              "    border-radius: 50%;\n",
              "    cursor: pointer;\n",
              "    display: none;\n",
              "    fill: var(--fill-color);\n",
              "    height: 32px;\n",
              "    padding: 0;\n",
              "    width: 32px;\n",
              "  }\n",
              "\n",
              "  .colab-df-quickchart:hover {\n",
              "    background-color: var(--hover-bg-color);\n",
              "    box-shadow: 0 1px 2px rgba(60, 64, 67, 0.3), 0 1px 3px 1px rgba(60, 64, 67, 0.15);\n",
              "    fill: var(--button-hover-fill-color);\n",
              "  }\n",
              "\n",
              "  .colab-df-quickchart-complete:disabled,\n",
              "  .colab-df-quickchart-complete:disabled:hover {\n",
              "    background-color: var(--disabled-bg-color);\n",
              "    fill: var(--disabled-fill-color);\n",
              "    box-shadow: none;\n",
              "  }\n",
              "\n",
              "  .colab-df-spinner {\n",
              "    border: 2px solid var(--fill-color);\n",
              "    border-color: transparent;\n",
              "    border-bottom-color: var(--fill-color);\n",
              "    animation:\n",
              "      spin 1s steps(1) infinite;\n",
              "  }\n",
              "\n",
              "  @keyframes spin {\n",
              "    0% {\n",
              "      border-color: transparent;\n",
              "      border-bottom-color: var(--fill-color);\n",
              "      border-left-color: var(--fill-color);\n",
              "    }\n",
              "    20% {\n",
              "      border-color: transparent;\n",
              "      border-left-color: var(--fill-color);\n",
              "      border-top-color: var(--fill-color);\n",
              "    }\n",
              "    30% {\n",
              "      border-color: transparent;\n",
              "      border-left-color: var(--fill-color);\n",
              "      border-top-color: var(--fill-color);\n",
              "      border-right-color: var(--fill-color);\n",
              "    }\n",
              "    40% {\n",
              "      border-color: transparent;\n",
              "      border-right-color: var(--fill-color);\n",
              "      border-top-color: var(--fill-color);\n",
              "    }\n",
              "    60% {\n",
              "      border-color: transparent;\n",
              "      border-right-color: var(--fill-color);\n",
              "    }\n",
              "    80% {\n",
              "      border-color: transparent;\n",
              "      border-right-color: var(--fill-color);\n",
              "      border-bottom-color: var(--fill-color);\n",
              "    }\n",
              "    90% {\n",
              "      border-color: transparent;\n",
              "      border-bottom-color: var(--fill-color);\n",
              "    }\n",
              "  }\n",
              "</style>\n",
              "\n",
              "  <script>\n",
              "    async function quickchart(key) {\n",
              "      const quickchartButtonEl =\n",
              "        document.querySelector('#' + key + ' button');\n",
              "      quickchartButtonEl.disabled = true;  // To prevent multiple clicks.\n",
              "      quickchartButtonEl.classList.add('colab-df-spinner');\n",
              "      try {\n",
              "        const charts = await google.colab.kernel.invokeFunction(\n",
              "            'suggestCharts', [key], {});\n",
              "      } catch (error) {\n",
              "        console.error('Error during call to suggestCharts:', error);\n",
              "      }\n",
              "      quickchartButtonEl.classList.remove('colab-df-spinner');\n",
              "      quickchartButtonEl.classList.add('colab-df-quickchart-complete');\n",
              "    }\n",
              "    (() => {\n",
              "      let quickchartButtonEl =\n",
              "        document.querySelector('#df-340986d4-b695-46f1-abea-9646ea557e4a button');\n",
              "      quickchartButtonEl.style.display =\n",
              "        google.colab.kernel.accessAllowed ? 'block' : 'none';\n",
              "    })();\n",
              "  </script>\n",
              "</div>\n",
              "    </div>\n",
              "  </div>\n"
            ]
          },
          "metadata": {},
          "execution_count": 11
        }
      ],
      "source": [
        "# The \"Strength\" columns is used as the target\n",
        "y = concrete_data[['Strength']]  # Target\n",
        "\n",
        "print(\"Targets: \\n\")\n",
        "y.head()"
      ],
      "id": "15MXq4A7RaNL"
    },
    {
      "cell_type": "code",
      "execution_count": null,
      "metadata": {
        "id": "076496c0"
      },
      "outputs": [],
      "source": [
        "# check if any of the fetures is non-numeric (categorical/ordinal). if found convert these to ohe or other accordingly"
      ],
      "id": "076496c0"
    },
    {
      "cell_type": "code",
      "execution_count": 12,
      "metadata": {
        "colab": {
          "base_uri": "https://localhost:8080/"
        },
        "id": "k8RklBAaTVFI",
        "outputId": "9d80772e-d4e3-4405-8254-3c312bac86bc"
      },
      "outputs": [
        {
          "output_type": "stream",
          "name": "stdout",
          "text": [
            "All features are numeric.\n"
          ]
        }
      ],
      "source": [
        "# Check if any features are non-numeric\n",
        "if X.select_dtypes(exclude=['number']).empty:\n",
        "    print(\"All features are numeric.\")\n",
        "else:\n",
        "    print(\"Non-numeric features found:\\n\", X.select_dtypes(exclude=['number']))"
      ],
      "id": "k8RklBAaTVFI"
    },
    {
      "cell_type": "markdown",
      "metadata": {
        "id": "c97394e1"
      },
      "source": [
        "### Train_Test Split"
      ],
      "id": "c97394e1"
    },
    {
      "cell_type": "code",
      "execution_count": null,
      "metadata": {
        "id": "7f3021ac"
      },
      "outputs": [],
      "source": [
        "#Split the data into train / test 90:10 ratio. and keep test data separate for final test"
      ],
      "id": "7f3021ac"
    },
    {
      "cell_type": "code",
      "execution_count": 13,
      "metadata": {
        "colab": {
          "base_uri": "https://localhost:8080/"
        },
        "id": "1WTf82muW9fd",
        "outputId": "27375ea5-b4e2-4c06-ff81-a9e3da991a03"
      },
      "outputs": [
        {
          "output_type": "stream",
          "name": "stdout",
          "text": [
            "Training set size (features):  (927, 8)\n",
            "Test set size (features):  (103, 8)\n"
          ]
        }
      ],
      "source": [
        "# Assuming X is your features and y is your target\n",
        "X_train, X_test, y_train, y_test = train_test_split(X, y, test_size=0.1, random_state=42)\n",
        "\n",
        "print(\"Training set size (features): \", X_train.shape)\n",
        "print(\"Test set size (features): \", X_test.shape)"
      ],
      "id": "1WTf82muW9fd"
    },
    {
      "cell_type": "markdown",
      "metadata": {
        "id": "0001340e-ae8f-41f8-86a8-ca61d658c934"
      },
      "source": [
        "### Defining Model function"
      ],
      "id": "0001340e-ae8f-41f8-86a8-ca61d658c934"
    },
    {
      "cell_type": "code",
      "execution_count": null,
      "metadata": {
        "id": "9081df20"
      },
      "outputs": [],
      "source": [
        "# define the regression model, use of no. of layers / units is upto you."
      ],
      "id": "9081df20"
    },
    {
      "cell_type": "code",
      "execution_count": 14,
      "metadata": {
        "id": "s74IisNsYT3H"
      },
      "outputs": [],
      "source": [
        "# Define the regression model\n",
        "model_A = keras.Sequential([\n",
        "    keras.layers.Dense(64, activation='relu', input_shape=(X_train.shape[1],)),  # Input layer\n",
        "    keras.layers.Dense(32, activation='relu'),  # Hidden layer\n",
        "    keras.layers.Dense(1)  # Output layer (1 neuron for regression)\n",
        "])"
      ],
      "id": "s74IisNsYT3H"
    },
    {
      "cell_type": "code",
      "execution_count": null,
      "metadata": {
        "id": "c5af4661"
      },
      "outputs": [],
      "source": [
        "#add model.compile step"
      ],
      "id": "c5af4661"
    },
    {
      "cell_type": "code",
      "execution_count": 15,
      "metadata": {
        "colab": {
          "base_uri": "https://localhost:8080/"
        },
        "id": "c9X4coyIY1Rk",
        "outputId": "5caef2a0-02fa-4395-9905-51030b227f44"
      },
      "outputs": [
        {
          "output_type": "stream",
          "name": "stdout",
          "text": [
            "Model: \"sequential\"\n",
            "_________________________________________________________________\n",
            " Layer (type)                Output Shape              Param #   \n",
            "=================================================================\n",
            " dense (Dense)               (None, 64)                576       \n",
            "                                                                 \n",
            " dense_1 (Dense)             (None, 32)                2080      \n",
            "                                                                 \n",
            " dense_2 (Dense)             (None, 1)                 33        \n",
            "                                                                 \n",
            "=================================================================\n",
            "Total params: 2689 (10.50 KB)\n",
            "Trainable params: 2689 (10.50 KB)\n",
            "Non-trainable params: 0 (0.00 Byte)\n",
            "_________________________________________________________________\n"
          ]
        }
      ],
      "source": [
        "# Compile the model\n",
        "model_A.compile(optimizer='adam', loss='mean_squared_error')\n",
        "\n",
        "# Print the model summary\n",
        "model_A.summary()"
      ],
      "id": "c9X4coyIY1Rk"
    },
    {
      "cell_type": "markdown",
      "metadata": {
        "id": "b600bcf3-36b9-43f6-b949-f1a243e402e3"
      },
      "source": [
        "### A. Building a baseline model"
      ],
      "id": "b600bcf3-36b9-43f6-b949-f1a243e402e3"
    },
    {
      "cell_type": "markdown",
      "metadata": {
        "id": "24bf1899-aa57-4b94-8fbd-0194a9ef367f"
      },
      "source": [
        "#### Model fitting and evaluation (with non_normalized data, epochs=50) -- repeated 50 times"
      ],
      "id": "24bf1899-aa57-4b94-8fbd-0194a9ef367f"
    },
    {
      "cell_type": "code",
      "execution_count": null,
      "metadata": {
        "colab": {
          "background_save": true
        },
        "id": "6f1922b6"
      },
      "outputs": [],
      "source": [
        "#use model.fit with non-normalized data."
      ],
      "id": "6f1922b6"
    },
    {
      "cell_type": "code",
      "execution_count": 16,
      "metadata": {
        "colab": {
          "base_uri": "https://localhost:8080/"
        },
        "id": "eEhgM04cZY4d",
        "outputId": "822c6e4d-ea87-43a2-e0e8-e35409d4bef9"
      },
      "outputs": [
        {
          "output_type": "stream",
          "name": "stdout",
          "text": [
            "Epoch 1/50\n",
            "27/27 [==============================] - 1s 9ms/step - loss: 1185.3883 - val_loss: 199.1711\n",
            "Epoch 2/50\n",
            "27/27 [==============================] - 0s 4ms/step - loss: 272.7638 - val_loss: 150.4497\n",
            "Epoch 3/50\n",
            "27/27 [==============================] - 0s 3ms/step - loss: 177.0721 - val_loss: 134.1375\n",
            "Epoch 4/50\n",
            "27/27 [==============================] - 0s 3ms/step - loss: 156.6973 - val_loss: 121.1959\n",
            "Epoch 5/50\n",
            "27/27 [==============================] - 0s 3ms/step - loss: 124.5280 - val_loss: 116.4494\n",
            "Epoch 6/50\n",
            "27/27 [==============================] - 0s 3ms/step - loss: 151.3807 - val_loss: 109.4640\n",
            "Epoch 7/50\n",
            "27/27 [==============================] - 0s 4ms/step - loss: 102.5383 - val_loss: 129.2735\n",
            "Epoch 8/50\n",
            "27/27 [==============================] - 0s 3ms/step - loss: 107.4605 - val_loss: 92.9546\n",
            "Epoch 9/50\n",
            "27/27 [==============================] - 0s 3ms/step - loss: 87.4578 - val_loss: 88.2420\n",
            "Epoch 10/50\n",
            "27/27 [==============================] - 0s 3ms/step - loss: 80.4310 - val_loss: 83.0383\n",
            "Epoch 11/50\n",
            "27/27 [==============================] - 0s 3ms/step - loss: 76.7761 - val_loss: 83.5907\n",
            "Epoch 12/50\n",
            "27/27 [==============================] - 0s 4ms/step - loss: 75.8203 - val_loss: 81.6045\n",
            "Epoch 13/50\n",
            "27/27 [==============================] - 0s 3ms/step - loss: 78.7023 - val_loss: 89.8891\n",
            "Epoch 14/50\n",
            "27/27 [==============================] - 0s 3ms/step - loss: 82.3523 - val_loss: 73.4551\n",
            "Epoch 15/50\n",
            "27/27 [==============================] - 0s 3ms/step - loss: 74.9683 - val_loss: 73.6514\n",
            "Epoch 16/50\n",
            "27/27 [==============================] - 0s 3ms/step - loss: 68.2108 - val_loss: 85.0635\n",
            "Epoch 17/50\n",
            "27/27 [==============================] - 0s 3ms/step - loss: 80.9613 - val_loss: 130.0933\n",
            "Epoch 18/50\n",
            "27/27 [==============================] - 0s 3ms/step - loss: 86.4378 - val_loss: 117.7156\n",
            "Epoch 19/50\n",
            "27/27 [==============================] - 0s 3ms/step - loss: 80.0096 - val_loss: 68.1123\n",
            "Epoch 20/50\n",
            "27/27 [==============================] - 0s 3ms/step - loss: 72.3578 - val_loss: 69.1888\n",
            "Epoch 21/50\n",
            "27/27 [==============================] - 0s 3ms/step - loss: 71.5844 - val_loss: 62.8023\n",
            "Epoch 22/50\n",
            "27/27 [==============================] - 0s 5ms/step - loss: 67.7906 - val_loss: 66.0568\n",
            "Epoch 23/50\n",
            "27/27 [==============================] - 0s 5ms/step - loss: 70.7133 - val_loss: 79.3038\n",
            "Epoch 24/50\n",
            "27/27 [==============================] - 0s 4ms/step - loss: 68.3710 - val_loss: 67.4695\n",
            "Epoch 25/50\n",
            "27/27 [==============================] - 0s 5ms/step - loss: 65.8627 - val_loss: 106.3739\n",
            "Epoch 26/50\n",
            "27/27 [==============================] - 0s 4ms/step - loss: 78.5147 - val_loss: 76.7397\n",
            "Epoch 27/50\n",
            "27/27 [==============================] - 0s 4ms/step - loss: 65.9823 - val_loss: 60.2750\n",
            "Epoch 28/50\n",
            "27/27 [==============================] - 0s 5ms/step - loss: 60.4772 - val_loss: 54.3987\n",
            "Epoch 29/50\n",
            "27/27 [==============================] - 0s 4ms/step - loss: 57.7153 - val_loss: 128.2373\n",
            "Epoch 30/50\n",
            "27/27 [==============================] - 0s 6ms/step - loss: 65.4790 - val_loss: 56.2337\n",
            "Epoch 31/50\n",
            "27/27 [==============================] - 0s 5ms/step - loss: 69.7577 - val_loss: 99.4918\n",
            "Epoch 32/50\n",
            "27/27 [==============================] - 0s 5ms/step - loss: 61.1716 - val_loss: 61.5395\n",
            "Epoch 33/50\n",
            "27/27 [==============================] - 0s 4ms/step - loss: 56.4891 - val_loss: 68.9679\n",
            "Epoch 34/50\n",
            "27/27 [==============================] - 0s 4ms/step - loss: 60.2865 - val_loss: 65.7719\n",
            "Epoch 35/50\n",
            "27/27 [==============================] - 0s 5ms/step - loss: 72.2825 - val_loss: 53.6324\n",
            "Epoch 36/50\n",
            "27/27 [==============================] - 0s 4ms/step - loss: 53.1740 - val_loss: 51.0593\n",
            "Epoch 37/50\n",
            "27/27 [==============================] - 0s 4ms/step - loss: 59.8475 - val_loss: 158.6173\n",
            "Epoch 38/50\n",
            "27/27 [==============================] - 0s 5ms/step - loss: 75.5195 - val_loss: 62.2934\n",
            "Epoch 39/50\n",
            "27/27 [==============================] - 0s 5ms/step - loss: 52.8634 - val_loss: 53.9307\n",
            "Epoch 40/50\n",
            "27/27 [==============================] - 0s 5ms/step - loss: 53.9454 - val_loss: 52.7597\n",
            "Epoch 41/50\n",
            "27/27 [==============================] - 0s 5ms/step - loss: 55.6424 - val_loss: 51.8850\n",
            "Epoch 42/50\n",
            "27/27 [==============================] - 0s 5ms/step - loss: 51.4061 - val_loss: 63.9666\n",
            "Epoch 43/50\n",
            "27/27 [==============================] - 0s 5ms/step - loss: 56.5144 - val_loss: 46.4491\n",
            "Epoch 44/50\n",
            "27/27 [==============================] - 0s 3ms/step - loss: 54.0944 - val_loss: 82.9293\n",
            "Epoch 45/50\n",
            "27/27 [==============================] - 0s 3ms/step - loss: 56.0191 - val_loss: 49.1329\n",
            "Epoch 46/50\n",
            "27/27 [==============================] - 0s 3ms/step - loss: 53.7570 - val_loss: 45.7615\n",
            "Epoch 47/50\n",
            "27/27 [==============================] - 0s 4ms/step - loss: 51.6050 - val_loss: 58.5621\n",
            "Epoch 48/50\n",
            "27/27 [==============================] - 0s 3ms/step - loss: 53.4931 - val_loss: 50.6108\n",
            "Epoch 49/50\n",
            "27/27 [==============================] - 0s 3ms/step - loss: 58.3013 - val_loss: 71.0788\n",
            "Epoch 50/50\n",
            "27/27 [==============================] - 0s 3ms/step - loss: 51.9549 - val_loss: 53.3268\n"
          ]
        }
      ],
      "source": [
        "# Fit the regression model with non-normalized data\n",
        "history_A=model_A.fit(X_train, y_train, epochs=50, batch_size=32,validation_split=0.1)"
      ],
      "id": "eEhgM04cZY4d"
    },
    {
      "cell_type": "code",
      "execution_count": null,
      "metadata": {
        "colab": {
          "background_save": true
        },
        "id": "4cc6846f"
      },
      "outputs": [],
      "source": [
        "# evaluate mode using test data and print accuracy"
      ],
      "id": "4cc6846f"
    },
    {
      "cell_type": "code",
      "execution_count": 18,
      "metadata": {
        "colab": {
          "base_uri": "https://localhost:8080/"
        },
        "id": "UUM7hnqwZmff",
        "outputId": "56917a1b-a04f-48d8-ddfe-709ca80e1e8c"
      },
      "outputs": [
        {
          "output_type": "stream",
          "name": "stdout",
          "text": [
            "4/4 [==============================] - 0s 3ms/step\n"
          ]
        },
        {
          "output_type": "execute_result",
          "data": {
            "text/plain": [
              "array([[41.201138 ],\n",
              "       [46.437054 ],\n",
              "       [68.61215  ],\n",
              "       [43.77065  ],\n",
              "       [11.626557 ],\n",
              "       [45.581745 ],\n",
              "       [30.935131 ],\n",
              "       [49.916157 ],\n",
              "       [32.62241  ],\n",
              "       [50.7271   ],\n",
              "       [33.132442 ],\n",
              "       [15.78375  ],\n",
              "       [55.921604 ],\n",
              "       [36.64323  ],\n",
              "       [24.81882  ],\n",
              "       [29.207073 ],\n",
              "       [34.678608 ],\n",
              "       [23.010166 ],\n",
              "       [38.56023  ],\n",
              "       [27.658833 ],\n",
              "       [44.352543 ],\n",
              "       [40.97546  ],\n",
              "       [51.011814 ],\n",
              "       [17.233692 ],\n",
              "       [31.724693 ],\n",
              "       [37.72579  ],\n",
              "       [ 9.581464 ],\n",
              "       [48.63341  ],\n",
              "       [51.762432 ],\n",
              "       [17.456974 ],\n",
              "       [47.0715   ],\n",
              "       [38.64446  ],\n",
              "       [52.97401  ],\n",
              "       [52.665066 ],\n",
              "       [19.924862 ],\n",
              "       [32.879612 ],\n",
              "       [32.432247 ],\n",
              "       [44.82768  ],\n",
              "       [13.953824 ],\n",
              "       [52.480892 ],\n",
              "       [18.35645  ],\n",
              "       [ 7.7561536],\n",
              "       [44.191998 ],\n",
              "       [55.983166 ],\n",
              "       [12.484059 ],\n",
              "       [76.064064 ],\n",
              "       [56.303516 ],\n",
              "       [38.708324 ],\n",
              "       [24.874859 ],\n",
              "       [11.097112 ],\n",
              "       [47.32089  ],\n",
              "       [51.499393 ],\n",
              "       [23.75916  ],\n",
              "       [27.033665 ],\n",
              "       [54.607754 ],\n",
              "       [43.77023  ],\n",
              "       [25.292076 ],\n",
              "       [12.344975 ],\n",
              "       [40.63812  ],\n",
              "       [24.857616 ],\n",
              "       [44.678947 ],\n",
              "       [16.444187 ],\n",
              "       [42.963264 ],\n",
              "       [50.625248 ],\n",
              "       [28.893692 ],\n",
              "       [21.35577  ],\n",
              "       [35.892525 ],\n",
              "       [20.664925 ],\n",
              "       [37.671345 ],\n",
              "       [25.210682 ],\n",
              "       [11.413335 ],\n",
              "       [23.294392 ],\n",
              "       [ 6.2308087],\n",
              "       [33.06661  ],\n",
              "       [33.284294 ],\n",
              "       [12.516042 ],\n",
              "       [40.966335 ],\n",
              "       [49.38677  ],\n",
              "       [65.63781  ],\n",
              "       [15.9214525],\n",
              "       [50.79189  ],\n",
              "       [38.021877 ],\n",
              "       [41.509052 ],\n",
              "       [40.45637  ],\n",
              "       [45.86241  ],\n",
              "       [43.77065  ],\n",
              "       [37.567604 ],\n",
              "       [39.96947  ],\n",
              "       [22.416855 ],\n",
              "       [20.63395  ],\n",
              "       [35.56721  ],\n",
              "       [71.20329  ],\n",
              "       [12.517224 ],\n",
              "       [47.981987 ],\n",
              "       [41.453938 ],\n",
              "       [44.75397  ],\n",
              "       [25.064419 ],\n",
              "       [33.073544 ],\n",
              "       [25.100498 ],\n",
              "       [39.619694 ],\n",
              "       [30.26807  ],\n",
              "       [46.11175  ],\n",
              "       [45.82752  ]], dtype=float32)"
            ]
          },
          "metadata": {},
          "execution_count": 18
        }
      ],
      "source": [
        "y_pred = model_A.predict(X_test)\n",
        "y_pred"
      ],
      "id": "UUM7hnqwZmff"
    },
    {
      "cell_type": "code",
      "source": [
        "# Calculate Mean Squared Error (MSE) for model A (non-normalized data run on epoch=50)\n",
        "mse = mean_squared_error(y_test, y_pred)\n",
        "print(\"Mean Squared Error (MSE): \", mse)"
      ],
      "metadata": {
        "colab": {
          "base_uri": "https://localhost:8080/"
        },
        "id": "svoEYCt1myPz",
        "outputId": "79aa72cd-3d2d-4b83-beec-ed9270fa7c5e"
      },
      "id": "svoEYCt1myPz",
      "execution_count": 21,
      "outputs": [
        {
          "output_type": "stream",
          "name": "stdout",
          "text": [
            "Mean Squared Error (MSE):  44.30598845265238\n"
          ]
        }
      ]
    },
    {
      "cell_type": "markdown",
      "metadata": {
        "id": "16e68f76-a7da-4960-8f4b-02f5884ecd71"
      },
      "source": [
        "## B. Modeling and Evaluation using 'normalized data'"
      ],
      "id": "16e68f76-a7da-4960-8f4b-02f5884ecd71"
    },
    {
      "cell_type": "markdown",
      "metadata": {
        "id": "4fbd0efe-1086-4341-b30a-f021e59e115d"
      },
      "source": [
        "#### Features Normalization"
      ],
      "id": "4fbd0efe-1086-4341-b30a-f021e59e115d"
    },
    {
      "cell_type": "code",
      "execution_count": null,
      "metadata": {
        "colab": {
          "background_save": true
        },
        "id": "ff585acb"
      },
      "outputs": [],
      "source": [
        "# use normalization of the cleaned data (obtained after null checking)"
      ],
      "id": "ff585acb"
    },
    {
      "cell_type": "code",
      "execution_count": 25,
      "metadata": {
        "id": "8xcQQTk0Z4AX"
      },
      "outputs": [],
      "source": [
        "# Create a StandardScaler instance\n",
        "scaler = StandardScaler()\n",
        "\n",
        "X_normalized = pd.DataFrame(scaler.fit_transform(X), columns=X.columns)"
      ],
      "id": "8xcQQTk0Z4AX"
    },
    {
      "cell_type": "markdown",
      "metadata": {
        "id": "9de596b8-81d2-42e5-bc41-b81e72801503"
      },
      "source": [
        "#### train_test split"
      ],
      "id": "9de596b8-81d2-42e5-bc41-b81e72801503"
    },
    {
      "cell_type": "code",
      "execution_count": null,
      "metadata": {
        "colab": {
          "background_save": true
        },
        "id": "9129bd74"
      },
      "outputs": [],
      "source": [
        "#train test split\n",
        "#from sklearn.model_selection import train_test_split\n",
        "#X_train_norm, X_test_norm, y_train, y_test = train_test_split(X_norm, y, test_size=0.30, random_state=42)"
      ],
      "id": "9129bd74"
    },
    {
      "cell_type": "code",
      "execution_count": 26,
      "metadata": {
        "colab": {
          "base_uri": "https://localhost:8080/"
        },
        "id": "s0-ARRexacnW",
        "outputId": "dd3f4f6b-ade2-4e5b-ab33-b973ecdffdf8"
      },
      "outputs": [
        {
          "output_type": "stream",
          "name": "stdout",
          "text": [
            "Training set size (features):  (927, 8)\n",
            "Test set size (features):  (103, 8)\n"
          ]
        }
      ],
      "source": [
        "# X_normalized is your normalized features and y is your target\n",
        "X_train_norm, X_test_norm, y_train, y_test = train_test_split(X_normalized, y, test_size=0.1, random_state=42)\n",
        "\n",
        "print(\"Training set size (features): \", X_train_norm.shape)\n",
        "print(\"Test set size (features): \", X_test_norm.shape)"
      ],
      "id": "s0-ARRexacnW"
    },
    {
      "cell_type": "markdown",
      "metadata": {
        "id": "cfda6b92-78cf-418b-8b88-7fb7fea0aa04"
      },
      "source": [
        "### Modeling & evaluation"
      ],
      "id": "cfda6b92-78cf-418b-8b88-7fb7fea0aa04"
    },
    {
      "cell_type": "code",
      "execution_count": null,
      "metadata": {
        "colab": {
          "background_save": true
        },
        "id": "aff4cffa"
      },
      "outputs": [],
      "source": [
        "#create model with same no. of layers / units and see impact of normalized data on accuracy"
      ],
      "id": "aff4cffa"
    },
    {
      "cell_type": "code",
      "execution_count": 31,
      "metadata": {
        "colab": {
          "base_uri": "https://localhost:8080/"
        },
        "id": "v7ooLc4taurY",
        "outputId": "2791c55c-0dc8-47a3-dfd2-b369190c8aed"
      },
      "outputs": [
        {
          "output_type": "stream",
          "name": "stdout",
          "text": [
            "Model: \"sequential_2\"\n",
            "_________________________________________________________________\n",
            " Layer (type)                Output Shape              Param #   \n",
            "=================================================================\n",
            " dense_6 (Dense)             (None, 128)               1152      \n",
            "                                                                 \n",
            " dense_7 (Dense)             (None, 64)                8256      \n",
            "                                                                 \n",
            " dense_8 (Dense)             (None, 32)                2080      \n",
            "                                                                 \n",
            " dense_9 (Dense)             (None, 1)                 33        \n",
            "                                                                 \n",
            "=================================================================\n",
            "Total params: 11521 (45.00 KB)\n",
            "Trainable params: 11521 (45.00 KB)\n",
            "Non-trainable params: 0 (0.00 Byte)\n",
            "_________________________________________________________________\n"
          ]
        }
      ],
      "source": [
        "# Define the regression model with the same architecture using normalized data\n",
        "model_B = keras.Sequential([\n",
        "    keras.layers.Dense(128, activation='relu', input_shape=(X_train_norm.shape[1],)),  # Input layer\n",
        "    keras.layers.Dense(64, activation='relu'),  # Hidden layer\n",
        "    keras.layers.Dense(32, activation='relu'),  # Hidden layer\n",
        "    keras.layers.Dense(1)  # Output layer (1 neuron for regression)\n",
        "])\n",
        "\n",
        "# Change optimizer and learning rate\n",
        "optimizer = keras.optimizers.Adam(learning_rate=0.01)\n",
        "model_B.compile(optimizer=optimizer, loss='mean_squared_error')\n",
        "\n",
        "# Print the model summary\n",
        "model_B.summary()"
      ],
      "id": "v7ooLc4taurY"
    },
    {
      "cell_type": "code",
      "source": [
        "# Fit the model with the normalized training data and epoch=50\n",
        "history_B = model_B.fit(X_train_norm, y_train, epochs=50, batch_size=32,validation_split=0.1)"
      ],
      "metadata": {
        "colab": {
          "base_uri": "https://localhost:8080/"
        },
        "id": "vcjBoslV5gzY",
        "outputId": "71017689-0f73-4005-a093-b761c3e7727f"
      },
      "id": "vcjBoslV5gzY",
      "execution_count": 32,
      "outputs": [
        {
          "output_type": "stream",
          "name": "stdout",
          "text": [
            "Epoch 1/50\n",
            "27/27 [==============================] - 2s 9ms/step - loss: 596.7595 - val_loss: 214.9145\n",
            "Epoch 2/50\n",
            "27/27 [==============================] - 0s 3ms/step - loss: 188.4045 - val_loss: 141.6548\n",
            "Epoch 3/50\n",
            "27/27 [==============================] - 0s 3ms/step - loss: 146.6484 - val_loss: 125.2826\n",
            "Epoch 4/50\n",
            "27/27 [==============================] - 0s 3ms/step - loss: 132.5848 - val_loss: 111.5901\n",
            "Epoch 5/50\n",
            "27/27 [==============================] - 0s 4ms/step - loss: 92.4234 - val_loss: 71.6705\n",
            "Epoch 6/50\n",
            "27/27 [==============================] - 0s 3ms/step - loss: 67.8946 - val_loss: 55.2231\n",
            "Epoch 7/50\n",
            "27/27 [==============================] - 0s 4ms/step - loss: 57.6535 - val_loss: 46.7551\n",
            "Epoch 8/50\n",
            "27/27 [==============================] - 0s 3ms/step - loss: 73.5145 - val_loss: 61.2615\n",
            "Epoch 9/50\n",
            "27/27 [==============================] - 0s 3ms/step - loss: 57.1010 - val_loss: 81.0543\n",
            "Epoch 10/50\n",
            "27/27 [==============================] - 0s 3ms/step - loss: 55.9381 - val_loss: 34.9943\n",
            "Epoch 11/50\n",
            "27/27 [==============================] - 0s 3ms/step - loss: 52.4491 - val_loss: 44.2805\n",
            "Epoch 12/50\n",
            "27/27 [==============================] - 0s 3ms/step - loss: 40.1201 - val_loss: 52.5523\n",
            "Epoch 13/50\n",
            "27/27 [==============================] - 0s 3ms/step - loss: 38.4656 - val_loss: 46.6705\n",
            "Epoch 14/50\n",
            "27/27 [==============================] - 0s 3ms/step - loss: 42.4106 - val_loss: 36.0903\n",
            "Epoch 15/50\n",
            "27/27 [==============================] - 0s 3ms/step - loss: 39.0468 - val_loss: 30.5588\n",
            "Epoch 16/50\n",
            "27/27 [==============================] - 0s 4ms/step - loss: 32.7136 - val_loss: 33.1684\n",
            "Epoch 17/50\n",
            "27/27 [==============================] - 0s 3ms/step - loss: 38.5327 - val_loss: 34.7505\n",
            "Epoch 18/50\n",
            "27/27 [==============================] - 0s 3ms/step - loss: 32.0182 - val_loss: 72.7637\n",
            "Epoch 19/50\n",
            "27/27 [==============================] - 0s 3ms/step - loss: 33.8924 - val_loss: 35.0671\n",
            "Epoch 20/50\n",
            "27/27 [==============================] - 0s 4ms/step - loss: 52.5946 - val_loss: 71.0953\n",
            "Epoch 21/50\n",
            "27/27 [==============================] - 0s 4ms/step - loss: 49.2314 - val_loss: 33.4807\n",
            "Epoch 22/50\n",
            "27/27 [==============================] - 0s 4ms/step - loss: 38.7757 - val_loss: 41.3365\n",
            "Epoch 23/50\n",
            "27/27 [==============================] - 0s 3ms/step - loss: 28.3026 - val_loss: 45.6746\n",
            "Epoch 24/50\n",
            "27/27 [==============================] - 0s 3ms/step - loss: 28.2690 - val_loss: 28.6542\n",
            "Epoch 25/50\n",
            "27/27 [==============================] - 0s 4ms/step - loss: 29.3592 - val_loss: 74.7560\n",
            "Epoch 26/50\n",
            "27/27 [==============================] - 0s 3ms/step - loss: 30.5882 - val_loss: 30.2495\n",
            "Epoch 27/50\n",
            "27/27 [==============================] - 0s 3ms/step - loss: 24.7967 - val_loss: 45.0694\n",
            "Epoch 28/50\n",
            "27/27 [==============================] - 0s 3ms/step - loss: 41.7972 - val_loss: 33.1317\n",
            "Epoch 29/50\n",
            "27/27 [==============================] - 0s 3ms/step - loss: 27.5692 - val_loss: 36.8204\n",
            "Epoch 30/50\n",
            "27/27 [==============================] - 0s 3ms/step - loss: 32.9522 - val_loss: 34.3941\n",
            "Epoch 31/50\n",
            "27/27 [==============================] - 0s 4ms/step - loss: 24.7094 - val_loss: 36.2001\n",
            "Epoch 32/50\n",
            "27/27 [==============================] - 0s 3ms/step - loss: 21.9073 - val_loss: 28.1196\n",
            "Epoch 33/50\n",
            "27/27 [==============================] - 0s 4ms/step - loss: 22.2790 - val_loss: 30.8817\n",
            "Epoch 34/50\n",
            "27/27 [==============================] - 0s 3ms/step - loss: 26.3733 - val_loss: 60.9669\n",
            "Epoch 35/50\n",
            "27/27 [==============================] - 0s 3ms/step - loss: 35.6314 - val_loss: 42.4567\n",
            "Epoch 36/50\n",
            "27/27 [==============================] - 0s 4ms/step - loss: 33.1742 - val_loss: 43.6095\n",
            "Epoch 37/50\n",
            "27/27 [==============================] - 0s 4ms/step - loss: 23.2244 - val_loss: 38.7928\n",
            "Epoch 38/50\n",
            "27/27 [==============================] - 0s 4ms/step - loss: 22.5594 - val_loss: 35.8229\n",
            "Epoch 39/50\n",
            "27/27 [==============================] - 0s 3ms/step - loss: 22.8499 - val_loss: 33.2227\n",
            "Epoch 40/50\n",
            "27/27 [==============================] - 0s 3ms/step - loss: 31.7576 - val_loss: 32.0778\n",
            "Epoch 41/50\n",
            "27/27 [==============================] - 0s 4ms/step - loss: 26.4394 - val_loss: 30.7841\n",
            "Epoch 42/50\n",
            "27/27 [==============================] - 0s 3ms/step - loss: 21.5084 - val_loss: 39.9744\n",
            "Epoch 43/50\n",
            "27/27 [==============================] - 0s 4ms/step - loss: 21.6324 - val_loss: 25.3938\n",
            "Epoch 44/50\n",
            "27/27 [==============================] - 0s 4ms/step - loss: 19.5219 - val_loss: 36.2237\n",
            "Epoch 45/50\n",
            "27/27 [==============================] - 0s 3ms/step - loss: 21.3946 - val_loss: 26.2983\n",
            "Epoch 46/50\n",
            "27/27 [==============================] - 0s 3ms/step - loss: 20.3011 - val_loss: 29.1163\n",
            "Epoch 47/50\n",
            "27/27 [==============================] - 0s 3ms/step - loss: 21.4795 - val_loss: 26.6666\n",
            "Epoch 48/50\n",
            "27/27 [==============================] - 0s 3ms/step - loss: 21.5237 - val_loss: 30.2164\n",
            "Epoch 49/50\n",
            "27/27 [==============================] - 0s 3ms/step - loss: 19.2138 - val_loss: 30.4464\n",
            "Epoch 50/50\n",
            "27/27 [==============================] - 0s 3ms/step - loss: 21.4351 - val_loss: 45.0643\n"
          ]
        }
      ]
    },
    {
      "cell_type": "code",
      "execution_count": null,
      "metadata": {
        "colab": {
          "background_save": true
        },
        "id": "8212db21"
      },
      "outputs": [],
      "source": [
        "#evaluate model and print accuracy"
      ],
      "id": "8212db21"
    },
    {
      "cell_type": "code",
      "execution_count": 33,
      "metadata": {
        "colab": {
          "base_uri": "https://localhost:8080/"
        },
        "id": "3HEImoRfgaHd",
        "outputId": "34d67ad4-db35-4c06-ade7-8f1f88aebdc1"
      },
      "outputs": [
        {
          "output_type": "stream",
          "name": "stdout",
          "text": [
            "4/4 [==============================] - 0s 3ms/step - loss: 39.7169\n",
            "Mean Squared Error (MSE) on test data: 39.7169189453125\n"
          ]
        }
      ],
      "source": [
        "# Evaluate the model on the normalized test data\n",
        "mse50 = model_B.evaluate(X_test_norm, y_test)\n",
        "print(\"Mean Squared Error (MSE) on test data:\", mse50)"
      ],
      "id": "3HEImoRfgaHd"
    },
    {
      "cell_type": "markdown",
      "metadata": {
        "id": "47260416-505d-4d8f-b147-0d08ed16e7b8"
      },
      "source": [
        "### Comparison of loss(MSE) / Accuracy between A & B (non-normalized data vs normalized data)"
      ],
      "id": "47260416-505d-4d8f-b147-0d08ed16e7b8"
    },
    {
      "cell_type": "code",
      "execution_count": null,
      "metadata": {
        "colab": {
          "background_save": true
        },
        "id": "65274611"
      },
      "outputs": [],
      "source": [
        "# print mse / accuracy"
      ],
      "id": "65274611"
    },
    {
      "cell_type": "code",
      "execution_count": 34,
      "metadata": {
        "colab": {
          "base_uri": "https://localhost:8080/"
        },
        "id": "UAeCVbZabYe5",
        "outputId": "dc6c4d22-a9af-429b-a6e1-befefb39324c"
      },
      "outputs": [
        {
          "output_type": "stream",
          "name": "stdout",
          "text": [
            "4/4 [==============================] - 0s 3ms/step\n",
            "4/4 [==============================] - 0s 3ms/step\n",
            "Mean Squared Error (MSE) for non-normalized data: 44.30598845265238\n",
            "Mean Squared Error (MSE) for normalized data: 39.71691922263585\n"
          ]
        }
      ],
      "source": [
        "# Make predictions on non-normalized test data\n",
        "y_pred_A = model_A.predict(X_test)\n",
        "\n",
        "# Calculate Mean Squared Error (MSE) for non-normalized data\n",
        "mse_non_normalized = mean_squared_error(y_test, y_pred_A)\n",
        "\n",
        "# Make predictions on normalized test data\n",
        "y_pred_norm = model_B.predict(X_test_norm)\n",
        "\n",
        "# Calculate Mean Squared Error (MSE) for normalized data\n",
        "mse_normalized = mean_squared_error(y_test, y_pred_norm)\n",
        "\n",
        "# Print the MSE for both non-normalized and normalized data\n",
        "print(\"Mean Squared Error (MSE) for non-normalized data:\", mse_non_normalized)\n",
        "print(\"Mean Squared Error (MSE) for normalized data:\", mse_normalized)"
      ],
      "id": "UAeCVbZabYe5"
    },
    {
      "cell_type": "markdown",
      "metadata": {
        "id": "1ec92adb-c139-49c2-86ef-da4ba613e492"
      },
      "source": [
        "## C. Repeating B with 100 epochs"
      ],
      "id": "1ec92adb-c139-49c2-86ef-da4ba613e492"
    },
    {
      "cell_type": "code",
      "execution_count": null,
      "metadata": {
        "id": "56205807"
      },
      "outputs": [],
      "source": [
        "#train model at B. with 100 epochs"
      ],
      "id": "56205807"
    },
    {
      "cell_type": "code",
      "execution_count": 35,
      "metadata": {
        "colab": {
          "base_uri": "https://localhost:8080/"
        },
        "id": "sODNwnEbb45d",
        "outputId": "4aa7b535-5d9d-46da-80a4-3d806671bf9d"
      },
      "outputs": [
        {
          "output_type": "stream",
          "name": "stdout",
          "text": [
            "Model: \"sequential_3\"\n",
            "_________________________________________________________________\n",
            " Layer (type)                Output Shape              Param #   \n",
            "=================================================================\n",
            " dense_10 (Dense)            (None, 64)                576       \n",
            "                                                                 \n",
            " dense_11 (Dense)            (None, 32)                2080      \n",
            "                                                                 \n",
            " dense_12 (Dense)            (None, 1)                 33        \n",
            "                                                                 \n",
            "=================================================================\n",
            "Total params: 2689 (10.50 KB)\n",
            "Trainable params: 2689 (10.50 KB)\n",
            "Non-trainable params: 0 (0.00 Byte)\n",
            "_________________________________________________________________\n"
          ]
        }
      ],
      "source": [
        "model_C = keras.Sequential([\n",
        "    keras.layers.Dense(64, activation='relu', input_shape=(X_train_norm.shape[1],)),  # Input layer\n",
        "    keras.layers.Dense(32, activation='relu'),  # Hidden layer\n",
        "    keras.layers.Dense(1)  # Output layer (1 neuron for regression)\n",
        "])\n",
        "\n",
        "# Compile the model\n",
        "model_C.compile(optimizer='adam', loss='mean_squared_error')\n",
        "\n",
        "# Print the model summary\n",
        "model_C.summary()"
      ],
      "id": "sODNwnEbb45d"
    },
    {
      "cell_type": "code",
      "source": [
        "# Fit the model with the normalized training data\n",
        "history_C=model_C.fit(X_train_norm, y_train, epochs=100, batch_size=32,validation_split=0.1)"
      ],
      "metadata": {
        "colab": {
          "base_uri": "https://localhost:8080/"
        },
        "id": "JAZ39DLJ6Ivx",
        "outputId": "8137633d-7270-49f0-ebdd-bc1ae18df99f"
      },
      "id": "JAZ39DLJ6Ivx",
      "execution_count": 36,
      "outputs": [
        {
          "output_type": "stream",
          "name": "stdout",
          "text": [
            "Epoch 1/100\n",
            "27/27 [==============================] - 1s 8ms/step - loss: 1522.3956 - val_loss: 1431.4701\n",
            "Epoch 2/100\n",
            "27/27 [==============================] - 0s 3ms/step - loss: 1347.2913 - val_loss: 1201.0338\n",
            "Epoch 3/100\n",
            "27/27 [==============================] - 0s 3ms/step - loss: 1043.4801 - val_loss: 844.2598\n",
            "Epoch 4/100\n",
            "27/27 [==============================] - 0s 3ms/step - loss: 652.6108 - val_loss: 463.2587\n",
            "Epoch 5/100\n",
            "27/27 [==============================] - 0s 3ms/step - loss: 335.4867 - val_loss: 242.7122\n",
            "Epoch 6/100\n",
            "27/27 [==============================] - 0s 3ms/step - loss: 222.7232 - val_loss: 191.7002\n",
            "Epoch 7/100\n",
            "27/27 [==============================] - 0s 3ms/step - loss: 202.6849 - val_loss: 179.8174\n",
            "Epoch 8/100\n",
            "27/27 [==============================] - 0s 4ms/step - loss: 191.5295 - val_loss: 171.3299\n",
            "Epoch 9/100\n",
            "27/27 [==============================] - 0s 3ms/step - loss: 182.3323 - val_loss: 165.8635\n",
            "Epoch 10/100\n",
            "27/27 [==============================] - 0s 3ms/step - loss: 175.4795 - val_loss: 161.6268\n",
            "Epoch 11/100\n",
            "27/27 [==============================] - 0s 3ms/step - loss: 169.8726 - val_loss: 157.6894\n",
            "Epoch 12/100\n",
            "27/27 [==============================] - 0s 3ms/step - loss: 164.2945 - val_loss: 153.6718\n",
            "Epoch 13/100\n",
            "27/27 [==============================] - 0s 3ms/step - loss: 159.9035 - val_loss: 149.9960\n",
            "Epoch 14/100\n",
            "27/27 [==============================] - 0s 3ms/step - loss: 155.7618 - val_loss: 147.4157\n",
            "Epoch 15/100\n",
            "27/27 [==============================] - 0s 3ms/step - loss: 152.7495 - val_loss: 145.8157\n",
            "Epoch 16/100\n",
            "27/27 [==============================] - 0s 3ms/step - loss: 149.9924 - val_loss: 143.9791\n",
            "Epoch 17/100\n",
            "27/27 [==============================] - 0s 3ms/step - loss: 147.7343 - val_loss: 141.5827\n",
            "Epoch 18/100\n",
            "27/27 [==============================] - 0s 3ms/step - loss: 145.7390 - val_loss: 140.1822\n",
            "Epoch 19/100\n",
            "27/27 [==============================] - 0s 3ms/step - loss: 143.4991 - val_loss: 139.3847\n",
            "Epoch 20/100\n",
            "27/27 [==============================] - 0s 3ms/step - loss: 141.3235 - val_loss: 137.7845\n",
            "Epoch 21/100\n",
            "27/27 [==============================] - 0s 3ms/step - loss: 139.5187 - val_loss: 136.1150\n",
            "Epoch 22/100\n",
            "27/27 [==============================] - 0s 3ms/step - loss: 138.1903 - val_loss: 135.1757\n",
            "Epoch 23/100\n",
            "27/27 [==============================] - 0s 3ms/step - loss: 137.5828 - val_loss: 134.5251\n",
            "Epoch 24/100\n",
            "27/27 [==============================] - 0s 3ms/step - loss: 135.0562 - val_loss: 132.9443\n",
            "Epoch 25/100\n",
            "27/27 [==============================] - 0s 3ms/step - loss: 133.7161 - val_loss: 131.7591\n",
            "Epoch 26/100\n",
            "27/27 [==============================] - 0s 3ms/step - loss: 132.3681 - val_loss: 131.1830\n",
            "Epoch 27/100\n",
            "27/27 [==============================] - 0s 3ms/step - loss: 130.9412 - val_loss: 130.4289\n",
            "Epoch 28/100\n",
            "27/27 [==============================] - 0s 3ms/step - loss: 129.7377 - val_loss: 127.8668\n",
            "Epoch 29/100\n",
            "27/27 [==============================] - 0s 3ms/step - loss: 128.5958 - val_loss: 127.7223\n",
            "Epoch 30/100\n",
            "27/27 [==============================] - 0s 3ms/step - loss: 126.9706 - val_loss: 127.0886\n",
            "Epoch 31/100\n",
            "27/27 [==============================] - 0s 4ms/step - loss: 126.2057 - val_loss: 125.6469\n",
            "Epoch 32/100\n",
            "27/27 [==============================] - 0s 3ms/step - loss: 124.6356 - val_loss: 124.0103\n",
            "Epoch 33/100\n",
            "27/27 [==============================] - 0s 3ms/step - loss: 123.1386 - val_loss: 123.2601\n",
            "Epoch 34/100\n",
            "27/27 [==============================] - 0s 4ms/step - loss: 122.1425 - val_loss: 120.9007\n",
            "Epoch 35/100\n",
            "27/27 [==============================] - 0s 5ms/step - loss: 119.8346 - val_loss: 119.4182\n",
            "Epoch 36/100\n",
            "27/27 [==============================] - 0s 5ms/step - loss: 119.0113 - val_loss: 118.4477\n",
            "Epoch 37/100\n",
            "27/27 [==============================] - 0s 5ms/step - loss: 116.7345 - val_loss: 117.1047\n",
            "Epoch 38/100\n",
            "27/27 [==============================] - 0s 4ms/step - loss: 116.5785 - val_loss: 118.6543\n",
            "Epoch 39/100\n",
            "27/27 [==============================] - 0s 4ms/step - loss: 114.1378 - val_loss: 115.0694\n",
            "Epoch 40/100\n",
            "27/27 [==============================] - 0s 4ms/step - loss: 111.8208 - val_loss: 111.6389\n",
            "Epoch 41/100\n",
            "27/27 [==============================] - 0s 5ms/step - loss: 110.3652 - val_loss: 109.4852\n",
            "Epoch 42/100\n",
            "27/27 [==============================] - 0s 5ms/step - loss: 108.9665 - val_loss: 107.9859\n",
            "Epoch 43/100\n",
            "27/27 [==============================] - 0s 5ms/step - loss: 106.3015 - val_loss: 106.2270\n",
            "Epoch 44/100\n",
            "27/27 [==============================] - 0s 5ms/step - loss: 104.7694 - val_loss: 103.4153\n",
            "Epoch 45/100\n",
            "27/27 [==============================] - 0s 5ms/step - loss: 101.6351 - val_loss: 102.0676\n",
            "Epoch 46/100\n",
            "27/27 [==============================] - 0s 4ms/step - loss: 100.3663 - val_loss: 100.0159\n",
            "Epoch 47/100\n",
            "27/27 [==============================] - 0s 4ms/step - loss: 98.0008 - val_loss: 98.2331\n",
            "Epoch 48/100\n",
            "27/27 [==============================] - 0s 5ms/step - loss: 95.8178 - val_loss: 96.8270\n",
            "Epoch 49/100\n",
            "27/27 [==============================] - 0s 4ms/step - loss: 94.3742 - val_loss: 95.6822\n",
            "Epoch 50/100\n",
            "27/27 [==============================] - 0s 5ms/step - loss: 92.2139 - val_loss: 93.7957\n",
            "Epoch 51/100\n",
            "27/27 [==============================] - 0s 4ms/step - loss: 90.8578 - val_loss: 92.2545\n",
            "Epoch 52/100\n",
            "27/27 [==============================] - 0s 5ms/step - loss: 88.8378 - val_loss: 90.7584\n",
            "Epoch 53/100\n",
            "27/27 [==============================] - 0s 5ms/step - loss: 87.1883 - val_loss: 89.1949\n",
            "Epoch 54/100\n",
            "27/27 [==============================] - 0s 5ms/step - loss: 88.8306 - val_loss: 88.4097\n",
            "Epoch 55/100\n",
            "27/27 [==============================] - 0s 5ms/step - loss: 84.4486 - val_loss: 87.4792\n",
            "Epoch 56/100\n",
            "27/27 [==============================] - 0s 4ms/step - loss: 82.9426 - val_loss: 86.2261\n",
            "Epoch 57/100\n",
            "27/27 [==============================] - 0s 3ms/step - loss: 82.7139 - val_loss: 85.8367\n",
            "Epoch 58/100\n",
            "27/27 [==============================] - 0s 3ms/step - loss: 80.3681 - val_loss: 83.2188\n",
            "Epoch 59/100\n",
            "27/27 [==============================] - 0s 4ms/step - loss: 79.6527 - val_loss: 81.8138\n",
            "Epoch 60/100\n",
            "27/27 [==============================] - 0s 3ms/step - loss: 78.5249 - val_loss: 80.7943\n",
            "Epoch 61/100\n",
            "27/27 [==============================] - 0s 3ms/step - loss: 77.4195 - val_loss: 80.6199\n",
            "Epoch 62/100\n",
            "27/27 [==============================] - 0s 4ms/step - loss: 75.5758 - val_loss: 78.4087\n",
            "Epoch 63/100\n",
            "27/27 [==============================] - 0s 3ms/step - loss: 74.6941 - val_loss: 78.0499\n",
            "Epoch 64/100\n",
            "27/27 [==============================] - 0s 4ms/step - loss: 72.7359 - val_loss: 76.1527\n",
            "Epoch 65/100\n",
            "27/27 [==============================] - 0s 3ms/step - loss: 72.3079 - val_loss: 75.3772\n",
            "Epoch 66/100\n",
            "27/27 [==============================] - 0s 4ms/step - loss: 71.6450 - val_loss: 74.0346\n",
            "Epoch 67/100\n",
            "27/27 [==============================] - 0s 3ms/step - loss: 69.8764 - val_loss: 73.4076\n",
            "Epoch 68/100\n",
            "27/27 [==============================] - 0s 3ms/step - loss: 69.5155 - val_loss: 71.9487\n",
            "Epoch 69/100\n",
            "27/27 [==============================] - 0s 3ms/step - loss: 68.2051 - val_loss: 70.2349\n",
            "Epoch 70/100\n",
            "27/27 [==============================] - 0s 3ms/step - loss: 68.0257 - val_loss: 69.1896\n",
            "Epoch 71/100\n",
            "27/27 [==============================] - 0s 3ms/step - loss: 66.0866 - val_loss: 68.4663\n",
            "Epoch 72/100\n",
            "27/27 [==============================] - 0s 3ms/step - loss: 64.7832 - val_loss: 67.5494\n",
            "Epoch 73/100\n",
            "27/27 [==============================] - 0s 3ms/step - loss: 64.1507 - val_loss: 68.1769\n",
            "Epoch 74/100\n",
            "27/27 [==============================] - 0s 3ms/step - loss: 63.7711 - val_loss: 64.5987\n",
            "Epoch 75/100\n",
            "27/27 [==============================] - 0s 3ms/step - loss: 62.8712 - val_loss: 62.9909\n",
            "Epoch 76/100\n",
            "27/27 [==============================] - 0s 3ms/step - loss: 62.0322 - val_loss: 62.8563\n",
            "Epoch 77/100\n",
            "27/27 [==============================] - 0s 4ms/step - loss: 60.8463 - val_loss: 63.0276\n",
            "Epoch 78/100\n",
            "27/27 [==============================] - 0s 3ms/step - loss: 59.9003 - val_loss: 60.1888\n",
            "Epoch 79/100\n",
            "27/27 [==============================] - 0s 4ms/step - loss: 59.3217 - val_loss: 59.2335\n",
            "Epoch 80/100\n",
            "27/27 [==============================] - 0s 3ms/step - loss: 57.9179 - val_loss: 59.1802\n",
            "Epoch 81/100\n",
            "27/27 [==============================] - 0s 3ms/step - loss: 57.3007 - val_loss: 58.4721\n",
            "Epoch 82/100\n",
            "27/27 [==============================] - 0s 3ms/step - loss: 56.8105 - val_loss: 56.1680\n",
            "Epoch 83/100\n",
            "27/27 [==============================] - 0s 3ms/step - loss: 55.6715 - val_loss: 56.1430\n",
            "Epoch 84/100\n",
            "27/27 [==============================] - 0s 3ms/step - loss: 54.3735 - val_loss: 54.8829\n",
            "Epoch 85/100\n",
            "27/27 [==============================] - 0s 4ms/step - loss: 54.4478 - val_loss: 54.1500\n",
            "Epoch 86/100\n",
            "27/27 [==============================] - 0s 3ms/step - loss: 53.4366 - val_loss: 53.4456\n",
            "Epoch 87/100\n",
            "27/27 [==============================] - 0s 3ms/step - loss: 52.6038 - val_loss: 52.4154\n",
            "Epoch 88/100\n",
            "27/27 [==============================] - 0s 4ms/step - loss: 51.4482 - val_loss: 51.8306\n",
            "Epoch 89/100\n",
            "27/27 [==============================] - 0s 3ms/step - loss: 51.0187 - val_loss: 50.2628\n",
            "Epoch 90/100\n",
            "27/27 [==============================] - 0s 3ms/step - loss: 50.9289 - val_loss: 50.3966\n",
            "Epoch 91/100\n",
            "27/27 [==============================] - 0s 4ms/step - loss: 49.8092 - val_loss: 48.1141\n",
            "Epoch 92/100\n",
            "27/27 [==============================] - 0s 4ms/step - loss: 48.9572 - val_loss: 48.1233\n",
            "Epoch 93/100\n",
            "27/27 [==============================] - 0s 3ms/step - loss: 48.3649 - val_loss: 46.9392\n",
            "Epoch 94/100\n",
            "27/27 [==============================] - 0s 3ms/step - loss: 48.4643 - val_loss: 49.1993\n",
            "Epoch 95/100\n",
            "27/27 [==============================] - 0s 3ms/step - loss: 47.6791 - val_loss: 45.6741\n",
            "Epoch 96/100\n",
            "27/27 [==============================] - 0s 3ms/step - loss: 46.5968 - val_loss: 45.2324\n",
            "Epoch 97/100\n",
            "27/27 [==============================] - 0s 3ms/step - loss: 46.6017 - val_loss: 43.9988\n",
            "Epoch 98/100\n",
            "27/27 [==============================] - 0s 3ms/step - loss: 45.5335 - val_loss: 43.9286\n",
            "Epoch 99/100\n",
            "27/27 [==============================] - 0s 3ms/step - loss: 44.5375 - val_loss: 43.1342\n",
            "Epoch 100/100\n",
            "27/27 [==============================] - 0s 3ms/step - loss: 45.9508 - val_loss: 42.5570\n"
          ]
        }
      ]
    },
    {
      "cell_type": "code",
      "execution_count": null,
      "metadata": {
        "id": "3a240d7a"
      },
      "outputs": [],
      "source": [
        "#evaluate and store accuracy"
      ],
      "id": "3a240d7a"
    },
    {
      "cell_type": "code",
      "execution_count": 37,
      "metadata": {
        "colab": {
          "base_uri": "https://localhost:8080/"
        },
        "id": "OYuyuzK6cLNX",
        "outputId": "8d389833-d18b-4b01-b99c-131ef7011390"
      },
      "outputs": [
        {
          "output_type": "stream",
          "name": "stdout",
          "text": [
            "4/4 [==============================] - 0s 3ms/step - loss: 39.9558\n",
            "Mean Squared Error (MSE) after 100 epochs: 39.95580291748047\n"
          ]
        }
      ],
      "source": [
        "# Evaluate the model using the test data and epoch=100\n",
        "mse100 = model_C.evaluate(X_test_norm, y_test)\n",
        "\n",
        "# Print the MSE\n",
        "print(\"Mean Squared Error (MSE) after 100 epochs:\", mse100)"
      ],
      "id": "OYuyuzK6cLNX"
    },
    {
      "cell_type": "markdown",
      "metadata": {
        "id": "010a6086-7239-4231-bbf9-1efedfc10d52"
      },
      "source": [
        "### Comparison of MSE between B & C (increasing epochs=50 to epochs=100)"
      ],
      "id": "010a6086-7239-4231-bbf9-1efedfc10d52"
    },
    {
      "cell_type": "code",
      "execution_count": null,
      "metadata": {
        "id": "ad3cfce7"
      },
      "outputs": [],
      "source": [
        "# print MSE (error) and Accuracy between B, C"
      ],
      "id": "ad3cfce7"
    },
    {
      "cell_type": "code",
      "execution_count": 38,
      "metadata": {
        "colab": {
          "base_uri": "https://localhost:8080/"
        },
        "id": "sQ3jmIJ9jX8J",
        "outputId": "215700bb-df74-4650-aa1c-de0f4bb99e8b"
      },
      "outputs": [
        {
          "output_type": "stream",
          "name": "stdout",
          "text": [
            "MSE deteriorated from 50 epochs to 100 epochs.\n",
            "39.7169189453125 39.95580291748047\n"
          ]
        }
      ],
      "source": [
        "# Compare the MSE between epoch 50 and epoch 100\n",
        "if mse100 < mse50:\n",
        "    print(\"MSE improved from 50 epochs to 100 epochs.\")\n",
        "elif mse100 > mse50:\n",
        "    print(\"MSE deteriorated from 50 epochs to 100 epochs.\")\n",
        "else:\n",
        "    print(\"MSE remained the same from 50 epochs to 100 epochs.\")\n",
        "\n",
        "print(mse50, mse100)"
      ],
      "id": "sQ3jmIJ9jX8J"
    },
    {
      "cell_type": "markdown",
      "metadata": {
        "id": "e5dff680-ebb6-4d61-8de5-1a96f64d5a47"
      },
      "source": [
        "## D. Optimized the number of hidden layers using counts 3,4,..."
      ],
      "id": "e5dff680-ebb6-4d61-8de5-1a96f64d5a47"
    },
    {
      "cell_type": "markdown",
      "metadata": {
        "id": "3455222b-816c-4734-bcc1-da8a4e5e697a"
      },
      "source": [
        "### Model  fitting and evaluation"
      ],
      "id": "3455222b-816c-4734-bcc1-da8a4e5e697a"
    },
    {
      "cell_type": "code",
      "execution_count": null,
      "metadata": {
        "colab": {
          "background_save": true
        },
        "id": "dba9c04e"
      },
      "outputs": [],
      "source": [
        "# create model as above"
      ],
      "id": "dba9c04e"
    },
    {
      "cell_type": "code",
      "execution_count": 42,
      "metadata": {
        "colab": {
          "base_uri": "https://localhost:8080/"
        },
        "id": "QQ3L0bwIlioP",
        "outputId": "e29bc254-658e-4331-8243-cbb2b1ec11d0"
      },
      "outputs": [
        {
          "output_type": "stream",
          "name": "stdout",
          "text": [
            "Model: \"sequential_6\"\n",
            "_________________________________________________________________\n",
            " Layer (type)                Output Shape              Param #   \n",
            "=================================================================\n",
            " dense_24 (Dense)            (None, 64)                576       \n",
            "                                                                 \n",
            " dense_25 (Dense)            (None, 32)                2080      \n",
            "                                                                 \n",
            " dense_26 (Dense)            (None, 32)                1056      \n",
            "                                                                 \n",
            " dense_27 (Dense)            (None, 32)                1056      \n",
            "                                                                 \n",
            " dense_28 (Dense)            (None, 1)                 33        \n",
            "                                                                 \n",
            "=================================================================\n",
            "Total params: 4801 (18.75 KB)\n",
            "Trainable params: 4801 (18.75 KB)\n",
            "Non-trainable params: 0 (0.00 Byte)\n",
            "_________________________________________________________________\n",
            "Model: \"sequential_7\"\n",
            "_________________________________________________________________\n",
            " Layer (type)                Output Shape              Param #   \n",
            "=================================================================\n",
            " dense_29 (Dense)            (None, 64)                576       \n",
            "                                                                 \n",
            " dense_30 (Dense)            (None, 32)                2080      \n",
            "                                                                 \n",
            " dense_31 (Dense)            (None, 32)                1056      \n",
            "                                                                 \n",
            " dense_32 (Dense)            (None, 32)                1056      \n",
            "                                                                 \n",
            " dense_33 (Dense)            (None, 32)                1056      \n",
            "                                                                 \n",
            " dense_34 (Dense)            (None, 1)                 33        \n",
            "                                                                 \n",
            "=================================================================\n",
            "Total params: 5857 (22.88 KB)\n",
            "Trainable params: 5857 (22.88 KB)\n",
            "Non-trainable params: 0 (0.00 Byte)\n",
            "_________________________________________________________________\n"
          ]
        }
      ],
      "source": [
        "# Define the number of hidden layers to try\n",
        "hidden_layers = [3, 4]\n",
        "\n",
        "for i in hidden_layers:\n",
        "    # Initialize the model\n",
        "    model_D = Sequential()\n",
        "    model_D.add(Dense(64, activation='relu', input_shape=(X_train_norm.shape[1],)))  # Input layer\n",
        "\n",
        "    # Add hidden layers\n",
        "    for _ in range(i):\n",
        "        model_D.add(Dense(32, activation='relu'))  # Hidden layer\n",
        "\n",
        "    model_D.add(Dense(1))  # Output layer (1 neuron for regression)\n",
        "\n",
        "    # Compile the model\n",
        "    model_D.compile(optimizer='adam', loss='mean_squared_error')\n",
        "\n",
        "    # Print the model summary\n",
        "    model_D.summary()"
      ],
      "id": "QQ3L0bwIlioP"
    },
    {
      "cell_type": "code",
      "source": [
        "  # Train the model with the normalized training data for 100 epochs\n",
        "history_D = model_D.fit(X_train_norm, y_train, epochs=100, batch_size=32,validation_split=0.1)"
      ],
      "metadata": {
        "colab": {
          "base_uri": "https://localhost:8080/"
        },
        "id": "Au8nKkvXrrSd",
        "outputId": "b68583fd-4e69-4c36-ad26-df73bd103938"
      },
      "id": "Au8nKkvXrrSd",
      "execution_count": 48,
      "outputs": [
        {
          "output_type": "stream",
          "name": "stdout",
          "text": [
            "Epoch 1/100\n",
            "27/27 [==============================] - 0s 7ms/step - loss: 14.7104 - val_loss: 35.5298\n",
            "Epoch 2/100\n",
            "27/27 [==============================] - 0s 5ms/step - loss: 14.4494 - val_loss: 33.0891\n",
            "Epoch 3/100\n",
            "27/27 [==============================] - 0s 5ms/step - loss: 15.1305 - val_loss: 29.9870\n",
            "Epoch 4/100\n",
            "27/27 [==============================] - 0s 4ms/step - loss: 13.4486 - val_loss: 29.1294\n",
            "Epoch 5/100\n",
            "27/27 [==============================] - 0s 3ms/step - loss: 14.4008 - val_loss: 29.5310\n",
            "Epoch 6/100\n",
            "27/27 [==============================] - 0s 4ms/step - loss: 14.2116 - val_loss: 29.3846\n",
            "Epoch 7/100\n",
            "27/27 [==============================] - 0s 4ms/step - loss: 13.3202 - val_loss: 28.1375\n",
            "Epoch 8/100\n",
            "27/27 [==============================] - 0s 4ms/step - loss: 13.3986 - val_loss: 28.9627\n",
            "Epoch 9/100\n",
            "27/27 [==============================] - 0s 4ms/step - loss: 17.3430 - val_loss: 27.2887\n",
            "Epoch 10/100\n",
            "27/27 [==============================] - 0s 4ms/step - loss: 12.9780 - val_loss: 31.0654\n",
            "Epoch 11/100\n",
            "27/27 [==============================] - 0s 3ms/step - loss: 14.9020 - val_loss: 27.8423\n",
            "Epoch 12/100\n",
            "27/27 [==============================] - 0s 3ms/step - loss: 14.3569 - val_loss: 30.2406\n",
            "Epoch 13/100\n",
            "27/27 [==============================] - 0s 3ms/step - loss: 13.8129 - val_loss: 29.4815\n",
            "Epoch 14/100\n",
            "27/27 [==============================] - 0s 4ms/step - loss: 15.1790 - val_loss: 31.3610\n",
            "Epoch 15/100\n",
            "27/27 [==============================] - 0s 4ms/step - loss: 13.6477 - val_loss: 30.4434\n",
            "Epoch 16/100\n",
            "27/27 [==============================] - 0s 3ms/step - loss: 13.8123 - val_loss: 31.6033\n",
            "Epoch 17/100\n",
            "27/27 [==============================] - 0s 3ms/step - loss: 12.5831 - val_loss: 29.3653\n",
            "Epoch 18/100\n",
            "27/27 [==============================] - 0s 3ms/step - loss: 12.2880 - val_loss: 27.1660\n",
            "Epoch 19/100\n",
            "27/27 [==============================] - 0s 3ms/step - loss: 15.4080 - val_loss: 31.4306\n",
            "Epoch 20/100\n",
            "27/27 [==============================] - 0s 3ms/step - loss: 13.7124 - val_loss: 32.9329\n",
            "Epoch 21/100\n",
            "27/27 [==============================] - 0s 4ms/step - loss: 12.7950 - val_loss: 27.6713\n",
            "Epoch 22/100\n",
            "27/27 [==============================] - 0s 4ms/step - loss: 12.2350 - val_loss: 26.4211\n",
            "Epoch 23/100\n",
            "27/27 [==============================] - 0s 3ms/step - loss: 13.4400 - val_loss: 26.8844\n",
            "Epoch 24/100\n",
            "27/27 [==============================] - 0s 4ms/step - loss: 12.2182 - val_loss: 26.9978\n",
            "Epoch 25/100\n",
            "27/27 [==============================] - 0s 3ms/step - loss: 13.1993 - val_loss: 27.8585\n",
            "Epoch 26/100\n",
            "27/27 [==============================] - 0s 3ms/step - loss: 13.2273 - val_loss: 28.0897\n",
            "Epoch 27/100\n",
            "27/27 [==============================] - 0s 3ms/step - loss: 12.1475 - val_loss: 27.0265\n",
            "Epoch 28/100\n",
            "27/27 [==============================] - 0s 3ms/step - loss: 11.6813 - val_loss: 26.1725\n",
            "Epoch 29/100\n",
            "27/27 [==============================] - 0s 4ms/step - loss: 12.3461 - val_loss: 30.1086\n",
            "Epoch 30/100\n",
            "27/27 [==============================] - 0s 3ms/step - loss: 11.7133 - val_loss: 26.0977\n",
            "Epoch 31/100\n",
            "27/27 [==============================] - 0s 4ms/step - loss: 11.7207 - val_loss: 27.6202\n",
            "Epoch 32/100\n",
            "27/27 [==============================] - 0s 4ms/step - loss: 11.9828 - val_loss: 31.3817\n",
            "Epoch 33/100\n",
            "27/27 [==============================] - 0s 3ms/step - loss: 17.4225 - val_loss: 29.2279\n",
            "Epoch 34/100\n",
            "27/27 [==============================] - 0s 3ms/step - loss: 12.4201 - val_loss: 25.9905\n",
            "Epoch 35/100\n",
            "27/27 [==============================] - 0s 4ms/step - loss: 12.8077 - val_loss: 26.9387\n",
            "Epoch 36/100\n",
            "27/27 [==============================] - 0s 4ms/step - loss: 11.4958 - val_loss: 29.3250\n",
            "Epoch 37/100\n",
            "27/27 [==============================] - 0s 4ms/step - loss: 12.1513 - val_loss: 32.4998\n",
            "Epoch 38/100\n",
            "27/27 [==============================] - 0s 4ms/step - loss: 11.9106 - val_loss: 28.8642\n",
            "Epoch 39/100\n",
            "27/27 [==============================] - 0s 4ms/step - loss: 12.2506 - val_loss: 30.4838\n",
            "Epoch 40/100\n",
            "27/27 [==============================] - 0s 3ms/step - loss: 14.2117 - val_loss: 32.9042\n",
            "Epoch 41/100\n",
            "27/27 [==============================] - 0s 4ms/step - loss: 13.7637 - val_loss: 25.4986\n",
            "Epoch 42/100\n",
            "27/27 [==============================] - 0s 3ms/step - loss: 12.0539 - val_loss: 26.3708\n",
            "Epoch 43/100\n",
            "27/27 [==============================] - 0s 4ms/step - loss: 11.3073 - val_loss: 27.2227\n",
            "Epoch 44/100\n",
            "27/27 [==============================] - 0s 3ms/step - loss: 11.2975 - val_loss: 27.4585\n",
            "Epoch 45/100\n",
            "27/27 [==============================] - 0s 3ms/step - loss: 12.7140 - val_loss: 33.5015\n",
            "Epoch 46/100\n",
            "27/27 [==============================] - 0s 4ms/step - loss: 11.8766 - val_loss: 26.0058\n",
            "Epoch 47/100\n",
            "27/27 [==============================] - 0s 3ms/step - loss: 10.8204 - val_loss: 24.4768\n",
            "Epoch 48/100\n",
            "27/27 [==============================] - 0s 4ms/step - loss: 10.5417 - val_loss: 25.7341\n",
            "Epoch 49/100\n",
            "27/27 [==============================] - 0s 4ms/step - loss: 11.3196 - val_loss: 28.8008\n",
            "Epoch 50/100\n",
            "27/27 [==============================] - 0s 4ms/step - loss: 12.2232 - val_loss: 31.0080\n",
            "Epoch 51/100\n",
            "27/27 [==============================] - 0s 4ms/step - loss: 12.1832 - val_loss: 25.7668\n",
            "Epoch 52/100\n",
            "27/27 [==============================] - 0s 3ms/step - loss: 10.7875 - val_loss: 29.9829\n",
            "Epoch 53/100\n",
            "27/27 [==============================] - 0s 4ms/step - loss: 11.3946 - val_loss: 26.3368\n",
            "Epoch 54/100\n",
            "27/27 [==============================] - 0s 3ms/step - loss: 11.0940 - val_loss: 29.3946\n",
            "Epoch 55/100\n",
            "27/27 [==============================] - 0s 4ms/step - loss: 11.5170 - val_loss: 37.6295\n",
            "Epoch 56/100\n",
            "27/27 [==============================] - 0s 4ms/step - loss: 15.1303 - val_loss: 26.8674\n",
            "Epoch 57/100\n",
            "27/27 [==============================] - 0s 3ms/step - loss: 10.8933 - val_loss: 28.6681\n",
            "Epoch 58/100\n",
            "27/27 [==============================] - 0s 4ms/step - loss: 12.8912 - val_loss: 28.1075\n",
            "Epoch 59/100\n",
            "27/27 [==============================] - 0s 3ms/step - loss: 12.1946 - val_loss: 28.1366\n",
            "Epoch 60/100\n",
            "27/27 [==============================] - 0s 3ms/step - loss: 11.4097 - val_loss: 39.2446\n",
            "Epoch 61/100\n",
            "27/27 [==============================] - 0s 4ms/step - loss: 16.3841 - val_loss: 28.8677\n",
            "Epoch 62/100\n",
            "27/27 [==============================] - 0s 4ms/step - loss: 13.7131 - val_loss: 30.1499\n",
            "Epoch 63/100\n",
            "27/27 [==============================] - 0s 3ms/step - loss: 11.6739 - val_loss: 26.9728\n",
            "Epoch 64/100\n",
            "27/27 [==============================] - 0s 3ms/step - loss: 10.5020 - val_loss: 26.4866\n",
            "Epoch 65/100\n",
            "27/27 [==============================] - 0s 4ms/step - loss: 10.4421 - val_loss: 25.8828\n",
            "Epoch 66/100\n",
            "27/27 [==============================] - 0s 4ms/step - loss: 10.7311 - val_loss: 26.5703\n",
            "Epoch 67/100\n",
            "27/27 [==============================] - 0s 4ms/step - loss: 9.8405 - val_loss: 27.5415\n",
            "Epoch 68/100\n",
            "27/27 [==============================] - 0s 4ms/step - loss: 10.5489 - val_loss: 28.3086\n",
            "Epoch 69/100\n",
            "27/27 [==============================] - 0s 3ms/step - loss: 10.9050 - val_loss: 32.2154\n",
            "Epoch 70/100\n",
            "27/27 [==============================] - 0s 4ms/step - loss: 10.2473 - val_loss: 25.5349\n",
            "Epoch 71/100\n",
            "27/27 [==============================] - 0s 4ms/step - loss: 10.6113 - val_loss: 29.1343\n",
            "Epoch 72/100\n",
            "27/27 [==============================] - 0s 3ms/step - loss: 10.7546 - val_loss: 27.3057\n",
            "Epoch 73/100\n",
            "27/27 [==============================] - 0s 3ms/step - loss: 11.1956 - val_loss: 34.7347\n",
            "Epoch 74/100\n",
            "27/27 [==============================] - 0s 4ms/step - loss: 12.6369 - val_loss: 27.8127\n",
            "Epoch 75/100\n",
            "27/27 [==============================] - 0s 3ms/step - loss: 11.3207 - val_loss: 28.2099\n",
            "Epoch 76/100\n",
            "27/27 [==============================] - 0s 3ms/step - loss: 9.8184 - val_loss: 26.6055\n",
            "Epoch 77/100\n",
            "27/27 [==============================] - 0s 4ms/step - loss: 12.0922 - val_loss: 25.7402\n",
            "Epoch 78/100\n",
            "27/27 [==============================] - 0s 3ms/step - loss: 10.7592 - val_loss: 30.3559\n",
            "Epoch 79/100\n",
            "27/27 [==============================] - 0s 3ms/step - loss: 10.5518 - val_loss: 25.7593\n",
            "Epoch 80/100\n",
            "27/27 [==============================] - 0s 3ms/step - loss: 11.5499 - val_loss: 30.0868\n",
            "Epoch 81/100\n",
            "27/27 [==============================] - 0s 3ms/step - loss: 12.6738 - val_loss: 29.0096\n",
            "Epoch 82/100\n",
            "27/27 [==============================] - 0s 4ms/step - loss: 10.6916 - val_loss: 28.8034\n",
            "Epoch 83/100\n",
            "27/27 [==============================] - 0s 4ms/step - loss: 9.6491 - val_loss: 25.7291\n",
            "Epoch 84/100\n",
            "27/27 [==============================] - 0s 4ms/step - loss: 11.2733 - val_loss: 36.2983\n",
            "Epoch 85/100\n",
            "27/27 [==============================] - 0s 4ms/step - loss: 12.1716 - val_loss: 27.6416\n",
            "Epoch 86/100\n",
            "27/27 [==============================] - 0s 4ms/step - loss: 11.9010 - val_loss: 26.0784\n",
            "Epoch 87/100\n",
            "27/27 [==============================] - 0s 4ms/step - loss: 10.7544 - val_loss: 26.9362\n",
            "Epoch 88/100\n",
            "27/27 [==============================] - 0s 3ms/step - loss: 9.9474 - val_loss: 27.4415\n",
            "Epoch 89/100\n",
            "27/27 [==============================] - 0s 3ms/step - loss: 16.2898 - val_loss: 28.3630\n",
            "Epoch 90/100\n",
            "27/27 [==============================] - 0s 3ms/step - loss: 11.8852 - val_loss: 28.3735\n",
            "Epoch 91/100\n",
            "27/27 [==============================] - 0s 3ms/step - loss: 12.1458 - val_loss: 24.8611\n",
            "Epoch 92/100\n",
            "27/27 [==============================] - 0s 4ms/step - loss: 10.5005 - val_loss: 26.6141\n",
            "Epoch 93/100\n",
            "27/27 [==============================] - 0s 3ms/step - loss: 10.4067 - val_loss: 26.0230\n",
            "Epoch 94/100\n",
            "27/27 [==============================] - 0s 4ms/step - loss: 9.0457 - val_loss: 24.4316\n",
            "Epoch 95/100\n",
            "27/27 [==============================] - 0s 3ms/step - loss: 10.2452 - val_loss: 26.3904\n",
            "Epoch 96/100\n",
            "27/27 [==============================] - 0s 3ms/step - loss: 10.6215 - val_loss: 29.4673\n",
            "Epoch 97/100\n",
            "27/27 [==============================] - 0s 4ms/step - loss: 11.1152 - val_loss: 29.3074\n",
            "Epoch 98/100\n",
            "27/27 [==============================] - 0s 4ms/step - loss: 11.1647 - val_loss: 25.1736\n",
            "Epoch 99/100\n",
            "27/27 [==============================] - 0s 4ms/step - loss: 9.6634 - val_loss: 27.4254\n",
            "Epoch 100/100\n",
            "27/27 [==============================] - 0s 4ms/step - loss: 10.6568 - val_loss: 27.5760\n"
          ]
        }
      ]
    },
    {
      "cell_type": "code",
      "execution_count": null,
      "metadata": {
        "colab": {
          "background_save": true
        },
        "id": "ec2b07fa"
      },
      "outputs": [],
      "source": [
        "#repeate checking accuracy as above"
      ],
      "id": "ec2b07fa"
    },
    {
      "cell_type": "code",
      "source": [
        "    # Evaluate the model on the normalized test data\n",
        "    mse100_D = model_D.evaluate(X_test_norm, y_test)\n",
        "\n",
        "    print(f\"Mean Squared Error (MSE) with hidden layers:\", mse100_D)"
      ],
      "metadata": {
        "colab": {
          "base_uri": "https://localhost:8080/"
        },
        "id": "2heyZH3snt77",
        "outputId": "ab02a66e-41aa-4607-c390-0f7d5547aca3"
      },
      "id": "2heyZH3snt77",
      "execution_count": 49,
      "outputs": [
        {
          "output_type": "stream",
          "name": "stdout",
          "text": [
            "4/4 [==============================] - 0s 3ms/step - loss: 35.8096\n",
            "Mean Squared Error (MSE) with hidden layers: 35.80955505371094\n"
          ]
        }
      ]
    },
    {
      "cell_type": "markdown",
      "metadata": {
        "id": "859a4d01-f7db-404b-a88b-37060b86eadf"
      },
      "source": [
        "## Comparison of MSE between C & D (increasing number of hidden layers)"
      ],
      "id": "859a4d01-f7db-404b-a88b-37060b86eadf"
    },
    {
      "cell_type": "code",
      "execution_count": null,
      "metadata": {
        "colab": {
          "background_save": true
        },
        "id": "5866c78b"
      },
      "outputs": [],
      "source": [
        "#print mse / accuracy"
      ],
      "id": "5866c78b"
    },
    {
      "cell_type": "code",
      "source": [
        "# Compare the MSE between epoch 50 and epoch 100\n",
        "if mse100 > mse100_D:\n",
        "    print(\"MSE for Model D is less than Model C\")\n",
        "elif mse100 < mse100_D:\n",
        "    print(\"MSE for Model D is higher than Model C\")\n",
        "else:\n",
        "    print(\"MSE remained the same for both Model C & D.\")\n",
        "\n",
        "print(mse100_D, mse100)"
      ],
      "metadata": {
        "colab": {
          "base_uri": "https://localhost:8080/"
        },
        "id": "gP4GjRk-3GPC",
        "outputId": "6e6cdae6-c10f-4b63-bb5c-14062f750f77"
      },
      "id": "gP4GjRk-3GPC",
      "execution_count": 50,
      "outputs": [
        {
          "output_type": "stream",
          "name": "stdout",
          "text": [
            "MSE for Model D is less than Model C\n",
            "35.80955505371094 39.95580291748047\n"
          ]
        }
      ]
    },
    {
      "cell_type": "markdown",
      "metadata": {
        "id": "82893a3d-305f-445a-9ebc-390e2ea6a39c"
      },
      "source": [
        "### Conclusion"
      ],
      "id": "82893a3d-305f-445a-9ebc-390e2ea6a39c"
    },
    {
      "cell_type": "markdown",
      "metadata": {
        "id": "5715023e"
      },
      "source": [
        "## E. Increasing the no. of units of hidden layers (16, 32,64,96, ... style)"
      ],
      "id": "5715023e"
    },
    {
      "cell_type": "markdown",
      "metadata": {
        "id": "17692d18"
      },
      "source": [
        "### Model  fitting and evaluation"
      ],
      "id": "17692d18"
    },
    {
      "cell_type": "code",
      "execution_count": null,
      "metadata": {
        "id": "12a8cf00"
      },
      "outputs": [],
      "source": [
        "# create model as above"
      ],
      "id": "12a8cf00"
    },
    {
      "cell_type": "code",
      "source": [
        "# Define the number of units in hidden layers to try\n",
        "hidden_units = [16, 32, 64, 96]\n",
        "\n",
        "for i in hidden_units:\n",
        "    # Initialize the model\n",
        "    model_E = Sequential()\n",
        "    model_E.add(Dense(64, activation='relu', input_shape=(X_train_norm.shape[1],)))  # Input layer\n",
        "\n",
        "    # Add hidden layer with 'i' units\n",
        "    model_E.add(Dense(i, activation='relu'))  # Hidden layer\n",
        "\n",
        "    model_E.add(Dense(1))  # Output layer (1 neuron for regression)\n",
        "\n",
        "    # Compile the model\n",
        "    model_E.compile(optimizer='adam', loss='mean_squared_error')\n",
        "\n",
        "    # Print the model summary\n",
        "    model_E.summary()"
      ],
      "metadata": {
        "colab": {
          "base_uri": "https://localhost:8080/"
        },
        "id": "k31llX8i2Gyn",
        "outputId": "5a4c9e61-f19d-46a4-cf60-3f6c74632c70"
      },
      "id": "k31llX8i2Gyn",
      "execution_count": 51,
      "outputs": [
        {
          "output_type": "stream",
          "name": "stdout",
          "text": [
            "Model: \"sequential_12\"\n",
            "_________________________________________________________________\n",
            " Layer (type)                Output Shape              Param #   \n",
            "=================================================================\n",
            " dense_47 (Dense)            (None, 64)                576       \n",
            "                                                                 \n",
            " dense_48 (Dense)            (None, 16)                1040      \n",
            "                                                                 \n",
            " dense_49 (Dense)            (None, 1)                 17        \n",
            "                                                                 \n",
            "=================================================================\n",
            "Total params: 1633 (6.38 KB)\n",
            "Trainable params: 1633 (6.38 KB)\n",
            "Non-trainable params: 0 (0.00 Byte)\n",
            "_________________________________________________________________\n",
            "Model: \"sequential_13\"\n",
            "_________________________________________________________________\n",
            " Layer (type)                Output Shape              Param #   \n",
            "=================================================================\n",
            " dense_50 (Dense)            (None, 64)                576       \n",
            "                                                                 \n",
            " dense_51 (Dense)            (None, 32)                2080      \n",
            "                                                                 \n",
            " dense_52 (Dense)            (None, 1)                 33        \n",
            "                                                                 \n",
            "=================================================================\n",
            "Total params: 2689 (10.50 KB)\n",
            "Trainable params: 2689 (10.50 KB)\n",
            "Non-trainable params: 0 (0.00 Byte)\n",
            "_________________________________________________________________\n",
            "Model: \"sequential_14\"\n",
            "_________________________________________________________________\n",
            " Layer (type)                Output Shape              Param #   \n",
            "=================================================================\n",
            " dense_53 (Dense)            (None, 64)                576       \n",
            "                                                                 \n",
            " dense_54 (Dense)            (None, 64)                4160      \n",
            "                                                                 \n",
            " dense_55 (Dense)            (None, 1)                 65        \n",
            "                                                                 \n",
            "=================================================================\n",
            "Total params: 4801 (18.75 KB)\n",
            "Trainable params: 4801 (18.75 KB)\n",
            "Non-trainable params: 0 (0.00 Byte)\n",
            "_________________________________________________________________\n",
            "Model: \"sequential_15\"\n",
            "_________________________________________________________________\n",
            " Layer (type)                Output Shape              Param #   \n",
            "=================================================================\n",
            " dense_56 (Dense)            (None, 64)                576       \n",
            "                                                                 \n",
            " dense_57 (Dense)            (None, 96)                6240      \n",
            "                                                                 \n",
            " dense_58 (Dense)            (None, 1)                 97        \n",
            "                                                                 \n",
            "=================================================================\n",
            "Total params: 6913 (27.00 KB)\n",
            "Trainable params: 6913 (27.00 KB)\n",
            "Non-trainable params: 0 (0.00 Byte)\n",
            "_________________________________________________________________\n"
          ]
        }
      ]
    },
    {
      "cell_type": "code",
      "source": [
        "history_E = model_E.fit(X_train_norm, y_train, epochs=100, batch_size=32,validation_split=0.1)"
      ],
      "metadata": {
        "colab": {
          "base_uri": "https://localhost:8080/"
        },
        "id": "S7qqvVSMto6B",
        "outputId": "306007e2-ce7c-4e1f-9640-0726f77863a9"
      },
      "id": "S7qqvVSMto6B",
      "execution_count": 53,
      "outputs": [
        {
          "output_type": "stream",
          "name": "stdout",
          "text": [
            "Epoch 1/100\n",
            "27/27 [==============================] - 1s 7ms/step - loss: 1485.9330 - val_loss: 1343.0986\n",
            "Epoch 2/100\n",
            "27/27 [==============================] - 0s 3ms/step - loss: 1210.5549 - val_loss: 992.4623\n",
            "Epoch 3/100\n",
            "27/27 [==============================] - 0s 3ms/step - loss: 783.9019 - val_loss: 529.6675\n",
            "Epoch 4/100\n",
            "27/27 [==============================] - 0s 3ms/step - loss: 363.6484 - val_loss: 231.8699\n",
            "Epoch 5/100\n",
            "27/27 [==============================] - 0s 3ms/step - loss: 215.9669 - val_loss: 183.2398\n",
            "Epoch 6/100\n",
            "27/27 [==============================] - 0s 3ms/step - loss: 199.7480 - val_loss: 171.7146\n",
            "Epoch 7/100\n",
            "27/27 [==============================] - 0s 3ms/step - loss: 189.4390 - val_loss: 165.5651\n",
            "Epoch 8/100\n",
            "27/27 [==============================] - 0s 3ms/step - loss: 181.5200 - val_loss: 160.2473\n",
            "Epoch 9/100\n",
            "27/27 [==============================] - 0s 4ms/step - loss: 174.4688 - val_loss: 154.3192\n",
            "Epoch 10/100\n",
            "27/27 [==============================] - 0s 4ms/step - loss: 168.7909 - val_loss: 150.9496\n",
            "Epoch 11/100\n",
            "27/27 [==============================] - 0s 3ms/step - loss: 163.0802 - val_loss: 148.0012\n",
            "Epoch 12/100\n",
            "27/27 [==============================] - 0s 3ms/step - loss: 158.8244 - val_loss: 145.2429\n",
            "Epoch 13/100\n",
            "27/27 [==============================] - 0s 3ms/step - loss: 154.3203 - val_loss: 141.5840\n",
            "Epoch 14/100\n",
            "27/27 [==============================] - 0s 4ms/step - loss: 151.9354 - val_loss: 139.1639\n",
            "Epoch 15/100\n",
            "27/27 [==============================] - 0s 3ms/step - loss: 148.1160 - val_loss: 137.4781\n",
            "Epoch 16/100\n",
            "27/27 [==============================] - 0s 3ms/step - loss: 145.1544 - val_loss: 135.5149\n",
            "Epoch 17/100\n",
            "27/27 [==============================] - 0s 3ms/step - loss: 142.5460 - val_loss: 133.9454\n",
            "Epoch 18/100\n",
            "27/27 [==============================] - 0s 3ms/step - loss: 139.6687 - val_loss: 132.0830\n",
            "Epoch 19/100\n",
            "27/27 [==============================] - 0s 3ms/step - loss: 136.1962 - val_loss: 129.1645\n",
            "Epoch 20/100\n",
            "27/27 [==============================] - 0s 3ms/step - loss: 134.7152 - val_loss: 128.2388\n",
            "Epoch 21/100\n",
            "27/27 [==============================] - 0s 3ms/step - loss: 131.9562 - val_loss: 125.9098\n",
            "Epoch 22/100\n",
            "27/27 [==============================] - 0s 3ms/step - loss: 129.5083 - val_loss: 124.3670\n",
            "Epoch 23/100\n",
            "27/27 [==============================] - 0s 3ms/step - loss: 128.6054 - val_loss: 121.7370\n",
            "Epoch 24/100\n",
            "27/27 [==============================] - 0s 3ms/step - loss: 126.4660 - val_loss: 119.6275\n",
            "Epoch 25/100\n",
            "27/27 [==============================] - 0s 4ms/step - loss: 122.0477 - val_loss: 117.5736\n",
            "Epoch 26/100\n",
            "27/27 [==============================] - 0s 3ms/step - loss: 119.7849 - val_loss: 115.4120\n",
            "Epoch 27/100\n",
            "27/27 [==============================] - 0s 3ms/step - loss: 116.8717 - val_loss: 112.4600\n",
            "Epoch 28/100\n",
            "27/27 [==============================] - 0s 4ms/step - loss: 113.0287 - val_loss: 109.4993\n",
            "Epoch 29/100\n",
            "27/27 [==============================] - 0s 3ms/step - loss: 110.7218 - val_loss: 106.4719\n",
            "Epoch 30/100\n",
            "27/27 [==============================] - 0s 3ms/step - loss: 107.1487 - val_loss: 104.0520\n",
            "Epoch 31/100\n",
            "27/27 [==============================] - 0s 4ms/step - loss: 105.6253 - val_loss: 102.4002\n",
            "Epoch 32/100\n",
            "27/27 [==============================] - 0s 3ms/step - loss: 100.5448 - val_loss: 97.6025\n",
            "Epoch 33/100\n",
            "27/27 [==============================] - 0s 3ms/step - loss: 96.6400 - val_loss: 93.2441\n",
            "Epoch 34/100\n",
            "27/27 [==============================] - 0s 3ms/step - loss: 93.0659 - val_loss: 89.7928\n",
            "Epoch 35/100\n",
            "27/27 [==============================] - 0s 3ms/step - loss: 88.8853 - val_loss: 85.4194\n",
            "Epoch 36/100\n",
            "27/27 [==============================] - 0s 3ms/step - loss: 84.7632 - val_loss: 81.8347\n",
            "Epoch 37/100\n",
            "27/27 [==============================] - 0s 3ms/step - loss: 81.0849 - val_loss: 78.8158\n",
            "Epoch 38/100\n",
            "27/27 [==============================] - 0s 3ms/step - loss: 77.5584 - val_loss: 75.4790\n",
            "Epoch 39/100\n",
            "27/27 [==============================] - 0s 4ms/step - loss: 73.5432 - val_loss: 73.8978\n",
            "Epoch 40/100\n",
            "27/27 [==============================] - 0s 3ms/step - loss: 70.5021 - val_loss: 68.9066\n",
            "Epoch 41/100\n",
            "27/27 [==============================] - 0s 4ms/step - loss: 66.2156 - val_loss: 65.0784\n",
            "Epoch 42/100\n",
            "27/27 [==============================] - 0s 3ms/step - loss: 62.5778 - val_loss: 63.6813\n",
            "Epoch 43/100\n",
            "27/27 [==============================] - 0s 4ms/step - loss: 60.2075 - val_loss: 59.2434\n",
            "Epoch 44/100\n",
            "27/27 [==============================] - 0s 3ms/step - loss: 57.1973 - val_loss: 58.0428\n",
            "Epoch 45/100\n",
            "27/27 [==============================] - 0s 3ms/step - loss: 56.0681 - val_loss: 55.3521\n",
            "Epoch 46/100\n",
            "27/27 [==============================] - 0s 3ms/step - loss: 53.9063 - val_loss: 53.9395\n",
            "Epoch 47/100\n",
            "27/27 [==============================] - 0s 4ms/step - loss: 50.8597 - val_loss: 51.1961\n",
            "Epoch 48/100\n",
            "27/27 [==============================] - 0s 3ms/step - loss: 49.5144 - val_loss: 50.2406\n",
            "Epoch 49/100\n",
            "27/27 [==============================] - 0s 3ms/step - loss: 47.6824 - val_loss: 48.7702\n",
            "Epoch 50/100\n",
            "27/27 [==============================] - 0s 3ms/step - loss: 45.6618 - val_loss: 46.7062\n",
            "Epoch 51/100\n",
            "27/27 [==============================] - 0s 3ms/step - loss: 45.2120 - val_loss: 45.8177\n",
            "Epoch 52/100\n",
            "27/27 [==============================] - 0s 4ms/step - loss: 43.5230 - val_loss: 44.6492\n",
            "Epoch 53/100\n",
            "27/27 [==============================] - 0s 3ms/step - loss: 42.9952 - val_loss: 43.6041\n",
            "Epoch 54/100\n",
            "27/27 [==============================] - 0s 3ms/step - loss: 42.4929 - val_loss: 43.6253\n",
            "Epoch 55/100\n",
            "27/27 [==============================] - 0s 3ms/step - loss: 41.9237 - val_loss: 41.6118\n",
            "Epoch 56/100\n",
            "27/27 [==============================] - 0s 3ms/step - loss: 40.6814 - val_loss: 41.9455\n",
            "Epoch 57/100\n",
            "27/27 [==============================] - 0s 3ms/step - loss: 41.0093 - val_loss: 40.9021\n",
            "Epoch 58/100\n",
            "27/27 [==============================] - 0s 3ms/step - loss: 38.6800 - val_loss: 41.0495\n",
            "Epoch 59/100\n",
            "27/27 [==============================] - 0s 3ms/step - loss: 38.1716 - val_loss: 40.0505\n",
            "Epoch 60/100\n",
            "27/27 [==============================] - 0s 3ms/step - loss: 40.9689 - val_loss: 40.4040\n",
            "Epoch 61/100\n",
            "27/27 [==============================] - 0s 4ms/step - loss: 36.3926 - val_loss: 39.6659\n",
            "Epoch 62/100\n",
            "27/27 [==============================] - 0s 3ms/step - loss: 37.4263 - val_loss: 37.5127\n",
            "Epoch 63/100\n",
            "27/27 [==============================] - 0s 3ms/step - loss: 35.4102 - val_loss: 38.7067\n",
            "Epoch 64/100\n",
            "27/27 [==============================] - 0s 3ms/step - loss: 35.9417 - val_loss: 39.0484\n",
            "Epoch 65/100\n",
            "27/27 [==============================] - 0s 3ms/step - loss: 34.6208 - val_loss: 37.1048\n",
            "Epoch 66/100\n",
            "27/27 [==============================] - 0s 3ms/step - loss: 34.1607 - val_loss: 37.1461\n",
            "Epoch 67/100\n",
            "27/27 [==============================] - 0s 3ms/step - loss: 34.4017 - val_loss: 38.0595\n",
            "Epoch 68/100\n",
            "27/27 [==============================] - 0s 3ms/step - loss: 33.2169 - val_loss: 39.2146\n",
            "Epoch 69/100\n",
            "27/27 [==============================] - 0s 3ms/step - loss: 33.8797 - val_loss: 36.1676\n",
            "Epoch 70/100\n",
            "27/27 [==============================] - 0s 3ms/step - loss: 32.4899 - val_loss: 35.3815\n",
            "Epoch 71/100\n",
            "27/27 [==============================] - 0s 4ms/step - loss: 33.1735 - val_loss: 34.9213\n",
            "Epoch 72/100\n",
            "27/27 [==============================] - 0s 3ms/step - loss: 32.1653 - val_loss: 35.0771\n",
            "Epoch 73/100\n",
            "27/27 [==============================] - 0s 3ms/step - loss: 32.2572 - val_loss: 35.2108\n",
            "Epoch 74/100\n",
            "27/27 [==============================] - 0s 4ms/step - loss: 32.1423 - val_loss: 34.9681\n",
            "Epoch 75/100\n",
            "27/27 [==============================] - 0s 3ms/step - loss: 31.9596 - val_loss: 34.6086\n",
            "Epoch 76/100\n",
            "27/27 [==============================] - 0s 3ms/step - loss: 35.3100 - val_loss: 34.3360\n",
            "Epoch 77/100\n",
            "27/27 [==============================] - 0s 3ms/step - loss: 30.6470 - val_loss: 35.3222\n",
            "Epoch 78/100\n",
            "27/27 [==============================] - 0s 3ms/step - loss: 30.9495 - val_loss: 34.8735\n",
            "Epoch 79/100\n",
            "27/27 [==============================] - 0s 3ms/step - loss: 30.6139 - val_loss: 34.7098\n",
            "Epoch 80/100\n",
            "27/27 [==============================] - 0s 3ms/step - loss: 29.7829 - val_loss: 33.6832\n",
            "Epoch 81/100\n",
            "27/27 [==============================] - 0s 3ms/step - loss: 29.9514 - val_loss: 33.9419\n",
            "Epoch 82/100\n",
            "27/27 [==============================] - 0s 3ms/step - loss: 29.8061 - val_loss: 33.1146\n",
            "Epoch 83/100\n",
            "27/27 [==============================] - 0s 3ms/step - loss: 29.7760 - val_loss: 33.3848\n",
            "Epoch 84/100\n",
            "27/27 [==============================] - 0s 3ms/step - loss: 29.6762 - val_loss: 33.2418\n",
            "Epoch 85/100\n",
            "27/27 [==============================] - 0s 4ms/step - loss: 28.8055 - val_loss: 33.8261\n",
            "Epoch 86/100\n",
            "27/27 [==============================] - 0s 3ms/step - loss: 28.7293 - val_loss: 33.7729\n",
            "Epoch 87/100\n",
            "27/27 [==============================] - 0s 3ms/step - loss: 30.0596 - val_loss: 33.6019\n",
            "Epoch 88/100\n",
            "27/27 [==============================] - 0s 3ms/step - loss: 31.1797 - val_loss: 32.5365\n",
            "Epoch 89/100\n",
            "27/27 [==============================] - 0s 3ms/step - loss: 28.3664 - val_loss: 32.6659\n",
            "Epoch 90/100\n",
            "27/27 [==============================] - 0s 3ms/step - loss: 27.6048 - val_loss: 32.4352\n",
            "Epoch 91/100\n",
            "27/27 [==============================] - 0s 3ms/step - loss: 29.0706 - val_loss: 31.9676\n",
            "Epoch 92/100\n",
            "27/27 [==============================] - 0s 3ms/step - loss: 27.3585 - val_loss: 31.0165\n",
            "Epoch 93/100\n",
            "27/27 [==============================] - 0s 3ms/step - loss: 26.8788 - val_loss: 32.7919\n",
            "Epoch 94/100\n",
            "27/27 [==============================] - 0s 3ms/step - loss: 26.8533 - val_loss: 32.4150\n",
            "Epoch 95/100\n",
            "27/27 [==============================] - 0s 3ms/step - loss: 26.9148 - val_loss: 30.8516\n",
            "Epoch 96/100\n",
            "27/27 [==============================] - 0s 3ms/step - loss: 28.3039 - val_loss: 31.7424\n",
            "Epoch 97/100\n",
            "27/27 [==============================] - 0s 3ms/step - loss: 27.8372 - val_loss: 30.4172\n",
            "Epoch 98/100\n",
            "27/27 [==============================] - 0s 3ms/step - loss: 26.7474 - val_loss: 30.8556\n",
            "Epoch 99/100\n",
            "27/27 [==============================] - 0s 3ms/step - loss: 26.0414 - val_loss: 30.1274\n",
            "Epoch 100/100\n",
            "27/27 [==============================] - 0s 4ms/step - loss: 26.4131 - val_loss: 31.1757\n"
          ]
        }
      ]
    },
    {
      "cell_type": "code",
      "execution_count": null,
      "metadata": {
        "id": "5d6b2095"
      },
      "outputs": [],
      "source": [
        "#repeate checking accuracy as above"
      ],
      "id": "5d6b2095"
    },
    {
      "cell_type": "code",
      "source": [
        "  # Evaluate the model on the normalized test data\n",
        "mse100_E = model_D.evaluate(X_test_norm, y_test)\n",
        "print(f\"Mean Squared Error (MSE) with hidden layers:\", mse100_E)"
      ],
      "metadata": {
        "colab": {
          "base_uri": "https://localhost:8080/"
        },
        "id": "u0_KFfQet9No",
        "outputId": "892f25a9-acbf-4da4-db58-fc9e69134942"
      },
      "id": "u0_KFfQet9No",
      "execution_count": 54,
      "outputs": [
        {
          "output_type": "stream",
          "name": "stdout",
          "text": [
            "4/4 [==============================] - 0s 3ms/step - loss: 31.4474\n",
            "Mean Squared Error (MSE) with hidden layers: 31.44735336303711\n"
          ]
        }
      ]
    },
    {
      "cell_type": "markdown",
      "metadata": {
        "id": "782c3990"
      },
      "source": [
        "## Comparison of MSE between C & D (increasing number of hidden layers)"
      ],
      "id": "782c3990"
    },
    {
      "cell_type": "code",
      "execution_count": null,
      "metadata": {
        "id": "c76ca049"
      },
      "outputs": [],
      "source": [
        "#print mse / accuracy"
      ],
      "id": "c76ca049"
    },
    {
      "cell_type": "code",
      "source": [
        "# Compare the MSE between Model D and Model E\n",
        "if mse100_E > mse100_D:\n",
        "    print(\"MSE for Model D is less than Model E\")\n",
        "elif mse100_E < mse100_D:\n",
        "    print(\"MSE for Model E is less than Model D\")\n",
        "else:\n",
        "    print(\"MSE remained the same for both Model D & E.\")\n",
        "\n",
        "print(mse100_D, mse100_E)"
      ],
      "metadata": {
        "colab": {
          "base_uri": "https://localhost:8080/"
        },
        "id": "z0xyuDsVuL8o",
        "outputId": "232068fc-dc4f-40e5-a469-00004d09bf97"
      },
      "id": "z0xyuDsVuL8o",
      "execution_count": 56,
      "outputs": [
        {
          "output_type": "stream",
          "name": "stdout",
          "text": [
            "MSE for Model E is less than Model D\n",
            "35.80955505371094 31.44735336303711\n"
          ]
        }
      ]
    },
    {
      "cell_type": "code",
      "execution_count": null,
      "metadata": {
        "colab": {
          "background_save": true
        },
        "id": "38882860"
      },
      "outputs": [],
      "source": [
        "#plots of loss / accuracy (as in chapter 4 taught) usning history dictionary keys.\n",
        "# write what you saw when using non-normalized vs normalized data, increased epochs, layers and units.|"
      ],
      "id": "38882860"
    },
    {
      "cell_type": "code",
      "source": [
        "import matplotlib.pyplot as plt\n",
        "\n",
        "# Assuming history_A to history_E are your Keras History objects\n",
        "histories = [history_A, history_B, history_C, history_D, history_E]\n",
        "model_names = ['Model A', 'Model B', 'Model C', 'Model D', 'Model E']\n",
        "\n",
        "for i, history in enumerate(histories):\n",
        "    plt.figure(i)\n",
        "    plt.plot(history.history['loss'], label='Training Loss')\n",
        "    plt.plot(history.history['val_loss'], '--', label='Validation Loss')\n",
        "    plt.title(f'{model_names[i]} Training and Validation Loss')\n",
        "    plt.xlabel('Epochs')\n",
        "    plt.ylabel('Loss')\n",
        "    plt.legend()\n",
        "    plt.show()"
      ],
      "metadata": {
        "colab": {
          "base_uri": "https://localhost:8080/",
          "height": 1000
        },
        "id": "AGYzF9iD4DFw",
        "outputId": "c6a0706e-3297-48a4-ac1c-d3466bb63b08"
      },
      "id": "AGYzF9iD4DFw",
      "execution_count": 57,
      "outputs": [
        {
          "output_type": "display_data",
          "data": {
            "text/plain": [
              "<Figure size 640x480 with 1 Axes>"
            ],
            "image/png": "[encoded data removed]"
          },
          "metadata": {}
        },
        {
          "output_type": "display_data",
          "data": {
            "text/plain": [
              "<Figure size 640x480 with 1 Axes>"
            ],
            "image/png": "[encoded data removed]"
          },
          "metadata": {}
        },
        {
          "output_type": "display_data",
          "data": {
            "text/plain": [
              "<Figure size 640x480 with 1 Axes>"
            ],
            "image/png": "[encoded data removed]"
          },
          "metadata": {}
        },
        {
          "output_type": "display_data",
          "data": {
            "text/plain": [
              "<Figure size 640x480 with 1 Axes>"
            ],
            "image/png": "[encoded data removed]"
          },
          "metadata": {}
        },
        {
          "output_type": "display_data",
          "data": {
            "text/plain": [
              "<Figure size 640x480 with 1 Axes>"
            ],
            "image/png": "[encoded data removed]"
          },
          "metadata": {}
        }
      ]
    },
    {
      "cell_type": "markdown",
      "metadata": {
        "id": "789cabc9-1abe-440a-b493-0f4e45daa1ad"
      },
      "source": [
        "### It is therefore evident that;\n",
        "#### -normalization the data, improved Accuracy and lowered the MSE\n",
        "#### -increasing the number of epochs seems to have overfitted the data\n",
        "#### -increasing the number of layers seems to have increased biased\n",
        "#### -and increasing the number of units seems to have achieved greater accuracy"
      ],
      "id": "789cabc9-1abe-440a-b493-0f4e45daa1ad"
    },
    {
      "cell_type": "markdown",
      "metadata": {
        "id": "55dba235"
      },
      "source": [
        "1. You can use model name as modelA, modelB etc. for sections A,B,....to avoid error.\n",
        "2. MSE is mean squared error normally used in regression problems"
      ],
      "id": "55dba235"
    },
    {
      "cell_type": "markdown",
      "metadata": {
        "id": "769cf925"
      },
      "source": [],
      "id": "769cf925"
    }
  ],
  "metadata": {
    "accelerator": "TPU",
    "colab": {
      "provenance": [],
      "include_colab_link": true
    },
    "kernelspec": {
      "display_name": "Python 3 (ipykernel)",
      "language": "python",
      "name": "python3"
    },
    "language_info": {
      "codemirror_mode": {
        "name": "ipython",
        "version": 3
      },
      "file_extension": ".py",
      "mimetype": "text/x-python",
      "name": "python",
      "nbconvert_exporter": "python",
      "pygments_lexer": "ipython3",
      "version": "3.11.4"
    }
  },
  "nbformat": 4,
  "nbformat_minor": 5
}